{
  "nbformat": 4,
  "nbformat_minor": 0,
  "metadata": {
    "colab": {
      "provenance": [],
      "authorship_tag": "ABX9TyN0WtpZZZVtpgBW2nTjM31c",
      "include_colab_link": true
    },
    "kernelspec": {
      "name": "python3",
      "display_name": "Python 3"
    },
    "language_info": {
      "name": "python"
    }
  },
  "cells": [
    {
      "cell_type": "markdown",
      "metadata": {
        "id": "view-in-github",
        "colab_type": "text"
      },
      "source": [
        "<a href=\"https://colab.research.google.com/github/Rishthegod/Advanced-Stock-Prediction-with-Backtesting/blob/main/Advanced_Stock_Prediction_with_backtesting.ipynb\" target=\"_parent\"><img src=\"https://colab.research.google.com/assets/colab-badge.svg\" alt=\"Open In Colab\"/></a>"
      ]
    },
    {
      "cell_type": "code",
      "execution_count": 41,
      "metadata": {
        "id": "_3xfTYmD8Pvc"
      },
      "outputs": [],
      "source": [
        "import yfinance as yf"
      ]
    },
    {
      "cell_type": "code",
      "source": [
        "giventicker = input(\"Please input a Ticker symbol \")\n",
        "startdate = input(\"Please input a start date: YYYY-MM-DD \")"
      ],
      "metadata": {
        "colab": {
          "base_uri": "https://localhost:8080/"
        },
        "id": "CGeGFRLa8Cc1",
        "outputId": "2c9abdfb-8375-433e-db83-02c9df9656b0"
      },
      "execution_count": 42,
      "outputs": [
        {
          "name": "stdout",
          "output_type": "stream",
          "text": [
            "Please input a Ticker symbol ^DJI\n",
            "Please input a start date: YYYY-MM-DD 1990-01-01\n"
          ]
        }
      ]
    },
    {
      "cell_type": "code",
      "source": [
        "sp500 = yf.Ticker(giventicker) #set the variable equal to a single ticker, may change it to user input later"
      ],
      "metadata": {
        "id": "uMwl8CIJ8dUn"
      },
      "execution_count": 43,
      "outputs": []
    },
    {
      "cell_type": "code",
      "source": [
        "sp500 = sp500.history(period=\"max\")"
      ],
      "metadata": {
        "id": "XujToSnJ8oDy"
      },
      "execution_count": 44,
      "outputs": []
    },
    {
      "cell_type": "code",
      "source": [
        "sp500"
      ],
      "metadata": {
        "colab": {
          "base_uri": "https://localhost:8080/",
          "height": 455
        },
        "id": "ai9-CHQm8whd",
        "outputId": "84a6d552-1233-44d6-8bcd-2d33246c7d33"
      },
      "execution_count": 45,
      "outputs": [
        {
          "output_type": "execute_result",
          "data": {
            "text/plain": [
              "                                   Open          High           Low  \\\n",
              "Date                                                                  \n",
              "1992-01-02 00:00:00-05:00   3152.100098   3172.629883   3139.310059   \n",
              "1992-01-03 00:00:00-05:00   3172.399902   3210.639893   3165.919922   \n",
              "1992-01-06 00:00:00-05:00   3201.500000   3213.330078   3191.860107   \n",
              "1992-01-07 00:00:00-05:00   3200.100098   3210.199951   3184.479980   \n",
              "1992-01-08 00:00:00-05:00   3204.800049   3229.199951   3185.820068   \n",
              "...                                 ...           ...           ...   \n",
              "2023-06-22 00:00:00-04:00  33900.468750  34003.558594  33835.390625   \n",
              "2023-06-23 00:00:00-04:00  33835.660156  33835.660156  33646.488281   \n",
              "2023-06-26 00:00:00-04:00  33730.789062  33819.488281  33610.320312   \n",
              "2023-06-27 00:00:00-04:00  33739.031250  33975.648438  33730.390625   \n",
              "2023-06-28 00:00:00-04:00  33881.378906  33903.761719  33755.921875   \n",
              "\n",
              "                                  Close     Volume  Dividends  Stock Splits  \n",
              "Date                                                                         \n",
              "1992-01-02 00:00:00-05:00   3172.399902   23550000        0.0           0.0  \n",
              "1992-01-03 00:00:00-05:00   3201.500000   23620000        0.0           0.0  \n",
              "1992-01-06 00:00:00-05:00   3200.100098   27280000        0.0           0.0  \n",
              "1992-01-07 00:00:00-05:00   3204.800049   25510000        0.0           0.0  \n",
              "1992-01-08 00:00:00-05:00   3203.899902   29040000        0.0           0.0  \n",
              "...                                 ...        ...        ...           ...  \n",
              "2023-06-22 00:00:00-04:00  33946.710938  275600000        0.0           0.0  \n",
              "2023-06-23 00:00:00-04:00  33727.429688  379800000        0.0           0.0  \n",
              "2023-06-26 00:00:00-04:00  33714.710938  265330000        0.0           0.0  \n",
              "2023-06-27 00:00:00-04:00  33926.738281  293210000        0.0           0.0  \n",
              "2023-06-28 00:00:00-04:00  33786.511719  125127545        0.0           0.0  \n",
              "\n",
              "[7931 rows x 7 columns]"
            ],
            "text/html": [
              "\n",
              "  <div id=\"df-cfa4e89b-20cb-4d55-a710-50a9f59e9927\">\n",
              "    <div class=\"colab-df-container\">\n",
              "      <div>\n",
              "<style scoped>\n",
              "    .dataframe tbody tr th:only-of-type {\n",
              "        vertical-align: middle;\n",
              "    }\n",
              "\n",
              "    .dataframe tbody tr th {\n",
              "        vertical-align: top;\n",
              "    }\n",
              "\n",
              "    .dataframe thead th {\n",
              "        text-align: right;\n",
              "    }\n",
              "</style>\n",
              "<table border=\"1\" class=\"dataframe\">\n",
              "  <thead>\n",
              "    <tr style=\"text-align: right;\">\n",
              "      <th></th>\n",
              "      <th>Open</th>\n",
              "      <th>High</th>\n",
              "      <th>Low</th>\n",
              "      <th>Close</th>\n",
              "      <th>Volume</th>\n",
              "      <th>Dividends</th>\n",
              "      <th>Stock Splits</th>\n",
              "    </tr>\n",
              "    <tr>\n",
              "      <th>Date</th>\n",
              "      <th></th>\n",
              "      <th></th>\n",
              "      <th></th>\n",
              "      <th></th>\n",
              "      <th></th>\n",
              "      <th></th>\n",
              "      <th></th>\n",
              "    </tr>\n",
              "  </thead>\n",
              "  <tbody>\n",
              "    <tr>\n",
              "      <th>1992-01-02 00:00:00-05:00</th>\n",
              "      <td>3152.100098</td>\n",
              "      <td>3172.629883</td>\n",
              "      <td>3139.310059</td>\n",
              "      <td>3172.399902</td>\n",
              "      <td>23550000</td>\n",
              "      <td>0.0</td>\n",
              "      <td>0.0</td>\n",
              "    </tr>\n",
              "    <tr>\n",
              "      <th>1992-01-03 00:00:00-05:00</th>\n",
              "      <td>3172.399902</td>\n",
              "      <td>3210.639893</td>\n",
              "      <td>3165.919922</td>\n",
              "      <td>3201.500000</td>\n",
              "      <td>23620000</td>\n",
              "      <td>0.0</td>\n",
              "      <td>0.0</td>\n",
              "    </tr>\n",
              "    <tr>\n",
              "      <th>1992-01-06 00:00:00-05:00</th>\n",
              "      <td>3201.500000</td>\n",
              "      <td>3213.330078</td>\n",
              "      <td>3191.860107</td>\n",
              "      <td>3200.100098</td>\n",
              "      <td>27280000</td>\n",
              "      <td>0.0</td>\n",
              "      <td>0.0</td>\n",
              "    </tr>\n",
              "    <tr>\n",
              "      <th>1992-01-07 00:00:00-05:00</th>\n",
              "      <td>3200.100098</td>\n",
              "      <td>3210.199951</td>\n",
              "      <td>3184.479980</td>\n",
              "      <td>3204.800049</td>\n",
              "      <td>25510000</td>\n",
              "      <td>0.0</td>\n",
              "      <td>0.0</td>\n",
              "    </tr>\n",
              "    <tr>\n",
              "      <th>1992-01-08 00:00:00-05:00</th>\n",
              "      <td>3204.800049</td>\n",
              "      <td>3229.199951</td>\n",
              "      <td>3185.820068</td>\n",
              "      <td>3203.899902</td>\n",
              "      <td>29040000</td>\n",
              "      <td>0.0</td>\n",
              "      <td>0.0</td>\n",
              "    </tr>\n",
              "    <tr>\n",
              "      <th>...</th>\n",
              "      <td>...</td>\n",
              "      <td>...</td>\n",
              "      <td>...</td>\n",
              "      <td>...</td>\n",
              "      <td>...</td>\n",
              "      <td>...</td>\n",
              "      <td>...</td>\n",
              "    </tr>\n",
              "    <tr>\n",
              "      <th>2023-06-22 00:00:00-04:00</th>\n",
              "      <td>33900.468750</td>\n",
              "      <td>34003.558594</td>\n",
              "      <td>33835.390625</td>\n",
              "      <td>33946.710938</td>\n",
              "      <td>275600000</td>\n",
              "      <td>0.0</td>\n",
              "      <td>0.0</td>\n",
              "    </tr>\n",
              "    <tr>\n",
              "      <th>2023-06-23 00:00:00-04:00</th>\n",
              "      <td>33835.660156</td>\n",
              "      <td>33835.660156</td>\n",
              "      <td>33646.488281</td>\n",
              "      <td>33727.429688</td>\n",
              "      <td>379800000</td>\n",
              "      <td>0.0</td>\n",
              "      <td>0.0</td>\n",
              "    </tr>\n",
              "    <tr>\n",
              "      <th>2023-06-26 00:00:00-04:00</th>\n",
              "      <td>33730.789062</td>\n",
              "      <td>33819.488281</td>\n",
              "      <td>33610.320312</td>\n",
              "      <td>33714.710938</td>\n",
              "      <td>265330000</td>\n",
              "      <td>0.0</td>\n",
              "      <td>0.0</td>\n",
              "    </tr>\n",
              "    <tr>\n",
              "      <th>2023-06-27 00:00:00-04:00</th>\n",
              "      <td>33739.031250</td>\n",
              "      <td>33975.648438</td>\n",
              "      <td>33730.390625</td>\n",
              "      <td>33926.738281</td>\n",
              "      <td>293210000</td>\n",
              "      <td>0.0</td>\n",
              "      <td>0.0</td>\n",
              "    </tr>\n",
              "    <tr>\n",
              "      <th>2023-06-28 00:00:00-04:00</th>\n",
              "      <td>33881.378906</td>\n",
              "      <td>33903.761719</td>\n",
              "      <td>33755.921875</td>\n",
              "      <td>33786.511719</td>\n",
              "      <td>125127545</td>\n",
              "      <td>0.0</td>\n",
              "      <td>0.0</td>\n",
              "    </tr>\n",
              "  </tbody>\n",
              "</table>\n",
              "<p>7931 rows × 7 columns</p>\n",
              "</div>\n",
              "      <button class=\"colab-df-convert\" onclick=\"convertToInteractive('df-cfa4e89b-20cb-4d55-a710-50a9f59e9927')\"\n",
              "              title=\"Convert this dataframe to an interactive table.\"\n",
              "              style=\"display:none;\">\n",
              "        \n",
              "  <svg xmlns=\"http://www.w3.org/2000/svg\" height=\"24px\"viewBox=\"0 0 24 24\"\n",
              "       width=\"24px\">\n",
              "    <path d=\"M0 0h24v24H0V0z\" fill=\"none\"/>\n",
              "    <path d=\"M18.56 5.44l.94 2.06.94-2.06 2.06-.94-2.06-.94-.94-2.06-.94 2.06-2.06.94zm-11 1L8.5 8.5l.94-2.06 2.06-.94-2.06-.94L8.5 2.5l-.94 2.06-2.06.94zm10 10l.94 2.06.94-2.06 2.06-.94-2.06-.94-.94-2.06-.94 2.06-2.06.94z\"/><path d=\"M17.41 7.96l-1.37-1.37c-.4-.4-.92-.59-1.43-.59-.52 0-1.04.2-1.43.59L10.3 9.45l-7.72 7.72c-.78.78-.78 2.05 0 2.83L4 21.41c.39.39.9.59 1.41.59.51 0 1.02-.2 1.41-.59l7.78-7.78 2.81-2.81c.8-.78.8-2.07 0-2.86zM5.41 20L4 18.59l7.72-7.72 1.47 1.35L5.41 20z\"/>\n",
              "  </svg>\n",
              "      </button>\n",
              "      \n",
              "  <style>\n",
              "    .colab-df-container {\n",
              "      display:flex;\n",
              "      flex-wrap:wrap;\n",
              "      gap: 12px;\n",
              "    }\n",
              "\n",
              "    .colab-df-convert {\n",
              "      background-color: #E8F0FE;\n",
              "      border: none;\n",
              "      border-radius: 50%;\n",
              "      cursor: pointer;\n",
              "      display: none;\n",
              "      fill: #1967D2;\n",
              "      height: 32px;\n",
              "      padding: 0 0 0 0;\n",
              "      width: 32px;\n",
              "    }\n",
              "\n",
              "    .colab-df-convert:hover {\n",
              "      background-color: #E2EBFA;\n",
              "      box-shadow: 0px 1px 2px rgba(60, 64, 67, 0.3), 0px 1px 3px 1px rgba(60, 64, 67, 0.15);\n",
              "      fill: #174EA6;\n",
              "    }\n",
              "\n",
              "    [theme=dark] .colab-df-convert {\n",
              "      background-color: #3B4455;\n",
              "      fill: #D2E3FC;\n",
              "    }\n",
              "\n",
              "    [theme=dark] .colab-df-convert:hover {\n",
              "      background-color: #434B5C;\n",
              "      box-shadow: 0px 1px 3px 1px rgba(0, 0, 0, 0.15);\n",
              "      filter: drop-shadow(0px 1px 2px rgba(0, 0, 0, 0.3));\n",
              "      fill: #FFFFFF;\n",
              "    }\n",
              "  </style>\n",
              "\n",
              "      <script>\n",
              "        const buttonEl =\n",
              "          document.querySelector('#df-cfa4e89b-20cb-4d55-a710-50a9f59e9927 button.colab-df-convert');\n",
              "        buttonEl.style.display =\n",
              "          google.colab.kernel.accessAllowed ? 'block' : 'none';\n",
              "\n",
              "        async function convertToInteractive(key) {\n",
              "          const element = document.querySelector('#df-cfa4e89b-20cb-4d55-a710-50a9f59e9927');\n",
              "          const dataTable =\n",
              "            await google.colab.kernel.invokeFunction('convertToInteractive',\n",
              "                                                     [key], {});\n",
              "          if (!dataTable) return;\n",
              "\n",
              "          const docLinkHtml = 'Like what you see? Visit the ' +\n",
              "            '<a target=\"_blank\" href=https://colab.research.google.com/notebooks/data_table.ipynb>data table notebook</a>'\n",
              "            + ' to learn more about interactive tables.';\n",
              "          element.innerHTML = '';\n",
              "          dataTable['output_type'] = 'display_data';\n",
              "          await google.colab.output.renderOutput(dataTable, element);\n",
              "          const docLink = document.createElement('div');\n",
              "          docLink.innerHTML = docLinkHtml;\n",
              "          element.appendChild(docLink);\n",
              "        }\n",
              "      </script>\n",
              "    </div>\n",
              "  </div>\n",
              "  "
            ]
          },
          "metadata": {},
          "execution_count": 45
        }
      ]
    },
    {
      "cell_type": "code",
      "source": [
        "sp500.index #index is the leftmost column of a dataset, how things are organized: here it is by date\n"
      ],
      "metadata": {
        "colab": {
          "base_uri": "https://localhost:8080/"
        },
        "id": "dMpdUNaF8zDz",
        "outputId": "30d68b90-f8a4-4120-cc4c-ec60f353127b"
      },
      "execution_count": 46,
      "outputs": [
        {
          "output_type": "execute_result",
          "data": {
            "text/plain": [
              "DatetimeIndex(['1992-01-02 00:00:00-05:00', '1992-01-03 00:00:00-05:00',\n",
              "               '1992-01-06 00:00:00-05:00', '1992-01-07 00:00:00-05:00',\n",
              "               '1992-01-08 00:00:00-05:00', '1992-01-09 00:00:00-05:00',\n",
              "               '1992-01-10 00:00:00-05:00', '1992-01-13 00:00:00-05:00',\n",
              "               '1992-01-14 00:00:00-05:00', '1992-01-15 00:00:00-05:00',\n",
              "               ...\n",
              "               '2023-06-14 00:00:00-04:00', '2023-06-15 00:00:00-04:00',\n",
              "               '2023-06-16 00:00:00-04:00', '2023-06-20 00:00:00-04:00',\n",
              "               '2023-06-21 00:00:00-04:00', '2023-06-22 00:00:00-04:00',\n",
              "               '2023-06-23 00:00:00-04:00', '2023-06-26 00:00:00-04:00',\n",
              "               '2023-06-27 00:00:00-04:00', '2023-06-28 00:00:00-04:00'],\n",
              "              dtype='datetime64[ns, America/New_York]', name='Date', length=7931, freq=None)"
            ]
          },
          "metadata": {},
          "execution_count": 46
        }
      ]
    },
    {
      "cell_type": "code",
      "source": [
        "sp500.plot.line(y=\"Close\", use_index=True)"
      ],
      "metadata": {
        "colab": {
          "base_uri": "https://localhost:8080/",
          "height": 440
        },
        "id": "HMXsGWC689bM",
        "outputId": "42ad4023-af6e-4647-abb2-06e31b58137c"
      },
      "execution_count": 47,
      "outputs": [
        {
          "output_type": "execute_result",
          "data": {
            "text/plain": [
              "<Axes: xlabel='Date'>"
            ]
          },
          "metadata": {},
          "execution_count": 47
        },
        {
          "output_type": "display_data",
          "data": {
            "text/plain": [
              "<Figure size 640x480 with 1 Axes>"
            ],
            "image/png": "[encoded data removed]"
          },
          "metadata": {}
        }
      ]
    },
    {
      "cell_type": "code",
      "source": [
        "del sp500[\"Dividends\"] #delete the unecessary dividends and stock splits columns in our data for sp500\n",
        "del sp500[\"Stock Splits\"]"
      ],
      "metadata": {
        "id": "UH9xsILS9IGH"
      },
      "execution_count": 48,
      "outputs": []
    },
    {
      "cell_type": "markdown",
      "source": [
        "#our target for this model is to predict whether the stock will move up or down, not trying to predict absolute (close) price for next day. Trying to predict absolute price is a common pitfall and is not our main concern as we want to know if we buy the stock right now will we turn a profit or a loss tommorow?"
      ],
      "metadata": {
        "id": "zP0Kn57j-dKD"
      }
    },
    {
      "cell_type": "code",
      "source": [
        "sp500[\"Tommorow\"] = sp500[\"Close\"].shift(-1) #add a new column called tommorow which is basically the next day's close price"
      ],
      "metadata": {
        "id": "WRMHCGrY-bj9"
      },
      "execution_count": 49,
      "outputs": []
    },
    {
      "cell_type": "code",
      "source": [
        "sp500"
      ],
      "metadata": {
        "colab": {
          "base_uri": "https://localhost:8080/",
          "height": 455
        },
        "id": "xx3plR2Q-oLk",
        "outputId": "fd3d29b9-cc72-4a11-a696-b292f2769724"
      },
      "execution_count": 50,
      "outputs": [
        {
          "output_type": "execute_result",
          "data": {
            "text/plain": [
              "                                   Open          High           Low  \\\n",
              "Date                                                                  \n",
              "1992-01-02 00:00:00-05:00   3152.100098   3172.629883   3139.310059   \n",
              "1992-01-03 00:00:00-05:00   3172.399902   3210.639893   3165.919922   \n",
              "1992-01-06 00:00:00-05:00   3201.500000   3213.330078   3191.860107   \n",
              "1992-01-07 00:00:00-05:00   3200.100098   3210.199951   3184.479980   \n",
              "1992-01-08 00:00:00-05:00   3204.800049   3229.199951   3185.820068   \n",
              "...                                 ...           ...           ...   \n",
              "2023-06-22 00:00:00-04:00  33900.468750  34003.558594  33835.390625   \n",
              "2023-06-23 00:00:00-04:00  33835.660156  33835.660156  33646.488281   \n",
              "2023-06-26 00:00:00-04:00  33730.789062  33819.488281  33610.320312   \n",
              "2023-06-27 00:00:00-04:00  33739.031250  33975.648438  33730.390625   \n",
              "2023-06-28 00:00:00-04:00  33881.378906  33903.761719  33755.921875   \n",
              "\n",
              "                                  Close     Volume      Tommorow  \n",
              "Date                                                              \n",
              "1992-01-02 00:00:00-05:00   3172.399902   23550000   3201.500000  \n",
              "1992-01-03 00:00:00-05:00   3201.500000   23620000   3200.100098  \n",
              "1992-01-06 00:00:00-05:00   3200.100098   27280000   3204.800049  \n",
              "1992-01-07 00:00:00-05:00   3204.800049   25510000   3203.899902  \n",
              "1992-01-08 00:00:00-05:00   3203.899902   29040000   3209.500000  \n",
              "...                                 ...        ...           ...  \n",
              "2023-06-22 00:00:00-04:00  33946.710938  275600000  33727.429688  \n",
              "2023-06-23 00:00:00-04:00  33727.429688  379800000  33714.710938  \n",
              "2023-06-26 00:00:00-04:00  33714.710938  265330000  33926.738281  \n",
              "2023-06-27 00:00:00-04:00  33926.738281  293210000  33786.511719  \n",
              "2023-06-28 00:00:00-04:00  33786.511719  125127545           NaN  \n",
              "\n",
              "[7931 rows x 6 columns]"
            ],
            "text/html": [
              "\n",
              "  <div id=\"df-a7ac2331-9a64-4067-8f76-92fe9ed5a474\">\n",
              "    <div class=\"colab-df-container\">\n",
              "      <div>\n",
              "<style scoped>\n",
              "    .dataframe tbody tr th:only-of-type {\n",
              "        vertical-align: middle;\n",
              "    }\n",
              "\n",
              "    .dataframe tbody tr th {\n",
              "        vertical-align: top;\n",
              "    }\n",
              "\n",
              "    .dataframe thead th {\n",
              "        text-align: right;\n",
              "    }\n",
              "</style>\n",
              "<table border=\"1\" class=\"dataframe\">\n",
              "  <thead>\n",
              "    <tr style=\"text-align: right;\">\n",
              "      <th></th>\n",
              "      <th>Open</th>\n",
              "      <th>High</th>\n",
              "      <th>Low</th>\n",
              "      <th>Close</th>\n",
              "      <th>Volume</th>\n",
              "      <th>Tommorow</th>\n",
              "    </tr>\n",
              "    <tr>\n",
              "      <th>Date</th>\n",
              "      <th></th>\n",
              "      <th></th>\n",
              "      <th></th>\n",
              "      <th></th>\n",
              "      <th></th>\n",
              "      <th></th>\n",
              "    </tr>\n",
              "  </thead>\n",
              "  <tbody>\n",
              "    <tr>\n",
              "      <th>1992-01-02 00:00:00-05:00</th>\n",
              "      <td>3152.100098</td>\n",
              "      <td>3172.629883</td>\n",
              "      <td>3139.310059</td>\n",
              "      <td>3172.399902</td>\n",
              "      <td>23550000</td>\n",
              "      <td>3201.500000</td>\n",
              "    </tr>\n",
              "    <tr>\n",
              "      <th>1992-01-03 00:00:00-05:00</th>\n",
              "      <td>3172.399902</td>\n",
              "      <td>3210.639893</td>\n",
              "      <td>3165.919922</td>\n",
              "      <td>3201.500000</td>\n",
              "      <td>23620000</td>\n",
              "      <td>3200.100098</td>\n",
              "    </tr>\n",
              "    <tr>\n",
              "      <th>1992-01-06 00:00:00-05:00</th>\n",
              "      <td>3201.500000</td>\n",
              "      <td>3213.330078</td>\n",
              "      <td>3191.860107</td>\n",
              "      <td>3200.100098</td>\n",
              "      <td>27280000</td>\n",
              "      <td>3204.800049</td>\n",
              "    </tr>\n",
              "    <tr>\n",
              "      <th>1992-01-07 00:00:00-05:00</th>\n",
              "      <td>3200.100098</td>\n",
              "      <td>3210.199951</td>\n",
              "      <td>3184.479980</td>\n",
              "      <td>3204.800049</td>\n",
              "      <td>25510000</td>\n",
              "      <td>3203.899902</td>\n",
              "    </tr>\n",
              "    <tr>\n",
              "      <th>1992-01-08 00:00:00-05:00</th>\n",
              "      <td>3204.800049</td>\n",
              "      <td>3229.199951</td>\n",
              "      <td>3185.820068</td>\n",
              "      <td>3203.899902</td>\n",
              "      <td>29040000</td>\n",
              "      <td>3209.500000</td>\n",
              "    </tr>\n",
              "    <tr>\n",
              "      <th>...</th>\n",
              "      <td>...</td>\n",
              "      <td>...</td>\n",
              "      <td>...</td>\n",
              "      <td>...</td>\n",
              "      <td>...</td>\n",
              "      <td>...</td>\n",
              "    </tr>\n",
              "    <tr>\n",
              "      <th>2023-06-22 00:00:00-04:00</th>\n",
              "      <td>33900.468750</td>\n",
              "      <td>34003.558594</td>\n",
              "      <td>33835.390625</td>\n",
              "      <td>33946.710938</td>\n",
              "      <td>275600000</td>\n",
              "      <td>33727.429688</td>\n",
              "    </tr>\n",
              "    <tr>\n",
              "      <th>2023-06-23 00:00:00-04:00</th>\n",
              "      <td>33835.660156</td>\n",
              "      <td>33835.660156</td>\n",
              "      <td>33646.488281</td>\n",
              "      <td>33727.429688</td>\n",
              "      <td>379800000</td>\n",
              "      <td>33714.710938</td>\n",
              "    </tr>\n",
              "    <tr>\n",
              "      <th>2023-06-26 00:00:00-04:00</th>\n",
              "      <td>33730.789062</td>\n",
              "      <td>33819.488281</td>\n",
              "      <td>33610.320312</td>\n",
              "      <td>33714.710938</td>\n",
              "      <td>265330000</td>\n",
              "      <td>33926.738281</td>\n",
              "    </tr>\n",
              "    <tr>\n",
              "      <th>2023-06-27 00:00:00-04:00</th>\n",
              "      <td>33739.031250</td>\n",
              "      <td>33975.648438</td>\n",
              "      <td>33730.390625</td>\n",
              "      <td>33926.738281</td>\n",
              "      <td>293210000</td>\n",
              "      <td>33786.511719</td>\n",
              "    </tr>\n",
              "    <tr>\n",
              "      <th>2023-06-28 00:00:00-04:00</th>\n",
              "      <td>33881.378906</td>\n",
              "      <td>33903.761719</td>\n",
              "      <td>33755.921875</td>\n",
              "      <td>33786.511719</td>\n",
              "      <td>125127545</td>\n",
              "      <td>NaN</td>\n",
              "    </tr>\n",
              "  </tbody>\n",
              "</table>\n",
              "<p>7931 rows × 6 columns</p>\n",
              "</div>\n",
              "      <button class=\"colab-df-convert\" onclick=\"convertToInteractive('df-a7ac2331-9a64-4067-8f76-92fe9ed5a474')\"\n",
              "              title=\"Convert this dataframe to an interactive table.\"\n",
              "              style=\"display:none;\">\n",
              "        \n",
              "  <svg xmlns=\"http://www.w3.org/2000/svg\" height=\"24px\"viewBox=\"0 0 24 24\"\n",
              "       width=\"24px\">\n",
              "    <path d=\"M0 0h24v24H0V0z\" fill=\"none\"/>\n",
              "    <path d=\"M18.56 5.44l.94 2.06.94-2.06 2.06-.94-2.06-.94-.94-2.06-.94 2.06-2.06.94zm-11 1L8.5 8.5l.94-2.06 2.06-.94-2.06-.94L8.5 2.5l-.94 2.06-2.06.94zm10 10l.94 2.06.94-2.06 2.06-.94-2.06-.94-.94-2.06-.94 2.06-2.06.94z\"/><path d=\"M17.41 7.96l-1.37-1.37c-.4-.4-.92-.59-1.43-.59-.52 0-1.04.2-1.43.59L10.3 9.45l-7.72 7.72c-.78.78-.78 2.05 0 2.83L4 21.41c.39.39.9.59 1.41.59.51 0 1.02-.2 1.41-.59l7.78-7.78 2.81-2.81c.8-.78.8-2.07 0-2.86zM5.41 20L4 18.59l7.72-7.72 1.47 1.35L5.41 20z\"/>\n",
              "  </svg>\n",
              "      </button>\n",
              "      \n",
              "  <style>\n",
              "    .colab-df-container {\n",
              "      display:flex;\n",
              "      flex-wrap:wrap;\n",
              "      gap: 12px;\n",
              "    }\n",
              "\n",
              "    .colab-df-convert {\n",
              "      background-color: #E8F0FE;\n",
              "      border: none;\n",
              "      border-radius: 50%;\n",
              "      cursor: pointer;\n",
              "      display: none;\n",
              "      fill: #1967D2;\n",
              "      height: 32px;\n",
              "      padding: 0 0 0 0;\n",
              "      width: 32px;\n",
              "    }\n",
              "\n",
              "    .colab-df-convert:hover {\n",
              "      background-color: #E2EBFA;\n",
              "      box-shadow: 0px 1px 2px rgba(60, 64, 67, 0.3), 0px 1px 3px 1px rgba(60, 64, 67, 0.15);\n",
              "      fill: #174EA6;\n",
              "    }\n",
              "\n",
              "    [theme=dark] .colab-df-convert {\n",
              "      background-color: #3B4455;\n",
              "      fill: #D2E3FC;\n",
              "    }\n",
              "\n",
              "    [theme=dark] .colab-df-convert:hover {\n",
              "      background-color: #434B5C;\n",
              "      box-shadow: 0px 1px 3px 1px rgba(0, 0, 0, 0.15);\n",
              "      filter: drop-shadow(0px 1px 2px rgba(0, 0, 0, 0.3));\n",
              "      fill: #FFFFFF;\n",
              "    }\n",
              "  </style>\n",
              "\n",
              "      <script>\n",
              "        const buttonEl =\n",
              "          document.querySelector('#df-a7ac2331-9a64-4067-8f76-92fe9ed5a474 button.colab-df-convert');\n",
              "        buttonEl.style.display =\n",
              "          google.colab.kernel.accessAllowed ? 'block' : 'none';\n",
              "\n",
              "        async function convertToInteractive(key) {\n",
              "          const element = document.querySelector('#df-a7ac2331-9a64-4067-8f76-92fe9ed5a474');\n",
              "          const dataTable =\n",
              "            await google.colab.kernel.invokeFunction('convertToInteractive',\n",
              "                                                     [key], {});\n",
              "          if (!dataTable) return;\n",
              "\n",
              "          const docLinkHtml = 'Like what you see? Visit the ' +\n",
              "            '<a target=\"_blank\" href=https://colab.research.google.com/notebooks/data_table.ipynb>data table notebook</a>'\n",
              "            + ' to learn more about interactive tables.';\n",
              "          element.innerHTML = '';\n",
              "          dataTable['output_type'] = 'display_data';\n",
              "          await google.colab.output.renderOutput(dataTable, element);\n",
              "          const docLink = document.createElement('div');\n",
              "          docLink.innerHTML = docLinkHtml;\n",
              "          element.appendChild(docLink);\n",
              "        }\n",
              "      </script>\n",
              "    </div>\n",
              "  </div>\n",
              "  "
            ]
          },
          "metadata": {},
          "execution_count": 50
        }
      ]
    },
    {
      "cell_type": "code",
      "source": [
        "sp500[\"Target\"] = (sp500[\"Tommorow\"]> sp500[\"Close\"]).astype(int) #add a new cloumn: target which returns a boolean True ( 1 or 0) if tommorows price at close is larger than today's price at close"
      ],
      "metadata": {
        "id": "VUkB56Tp-pVr"
      },
      "execution_count": 51,
      "outputs": []
    },
    {
      "cell_type": "code",
      "source": [
        "sp500"
      ],
      "metadata": {
        "colab": {
          "base_uri": "https://localhost:8080/",
          "height": 455
        },
        "id": "hMNr8dm2_Geb",
        "outputId": "37f070d3-5d89-4540-d823-ac7e04ed0040"
      },
      "execution_count": 52,
      "outputs": [
        {
          "output_type": "execute_result",
          "data": {
            "text/plain": [
              "                                   Open          High           Low  \\\n",
              "Date                                                                  \n",
              "1992-01-02 00:00:00-05:00   3152.100098   3172.629883   3139.310059   \n",
              "1992-01-03 00:00:00-05:00   3172.399902   3210.639893   3165.919922   \n",
              "1992-01-06 00:00:00-05:00   3201.500000   3213.330078   3191.860107   \n",
              "1992-01-07 00:00:00-05:00   3200.100098   3210.199951   3184.479980   \n",
              "1992-01-08 00:00:00-05:00   3204.800049   3229.199951   3185.820068   \n",
              "...                                 ...           ...           ...   \n",
              "2023-06-22 00:00:00-04:00  33900.468750  34003.558594  33835.390625   \n",
              "2023-06-23 00:00:00-04:00  33835.660156  33835.660156  33646.488281   \n",
              "2023-06-26 00:00:00-04:00  33730.789062  33819.488281  33610.320312   \n",
              "2023-06-27 00:00:00-04:00  33739.031250  33975.648438  33730.390625   \n",
              "2023-06-28 00:00:00-04:00  33881.378906  33903.761719  33755.921875   \n",
              "\n",
              "                                  Close     Volume      Tommorow  Target  \n",
              "Date                                                                      \n",
              "1992-01-02 00:00:00-05:00   3172.399902   23550000   3201.500000       1  \n",
              "1992-01-03 00:00:00-05:00   3201.500000   23620000   3200.100098       0  \n",
              "1992-01-06 00:00:00-05:00   3200.100098   27280000   3204.800049       1  \n",
              "1992-01-07 00:00:00-05:00   3204.800049   25510000   3203.899902       0  \n",
              "1992-01-08 00:00:00-05:00   3203.899902   29040000   3209.500000       1  \n",
              "...                                 ...        ...           ...     ...  \n",
              "2023-06-22 00:00:00-04:00  33946.710938  275600000  33727.429688       0  \n",
              "2023-06-23 00:00:00-04:00  33727.429688  379800000  33714.710938       0  \n",
              "2023-06-26 00:00:00-04:00  33714.710938  265330000  33926.738281       1  \n",
              "2023-06-27 00:00:00-04:00  33926.738281  293210000  33786.511719       0  \n",
              "2023-06-28 00:00:00-04:00  33786.511719  125127545           NaN       0  \n",
              "\n",
              "[7931 rows x 7 columns]"
            ],
            "text/html": [
              "\n",
              "  <div id=\"df-7045112b-5155-4548-a6f4-33a63a691bb7\">\n",
              "    <div class=\"colab-df-container\">\n",
              "      <div>\n",
              "<style scoped>\n",
              "    .dataframe tbody tr th:only-of-type {\n",
              "        vertical-align: middle;\n",
              "    }\n",
              "\n",
              "    .dataframe tbody tr th {\n",
              "        vertical-align: top;\n",
              "    }\n",
              "\n",
              "    .dataframe thead th {\n",
              "        text-align: right;\n",
              "    }\n",
              "</style>\n",
              "<table border=\"1\" class=\"dataframe\">\n",
              "  <thead>\n",
              "    <tr style=\"text-align: right;\">\n",
              "      <th></th>\n",
              "      <th>Open</th>\n",
              "      <th>High</th>\n",
              "      <th>Low</th>\n",
              "      <th>Close</th>\n",
              "      <th>Volume</th>\n",
              "      <th>Tommorow</th>\n",
              "      <th>Target</th>\n",
              "    </tr>\n",
              "    <tr>\n",
              "      <th>Date</th>\n",
              "      <th></th>\n",
              "      <th></th>\n",
              "      <th></th>\n",
              "      <th></th>\n",
              "      <th></th>\n",
              "      <th></th>\n",
              "      <th></th>\n",
              "    </tr>\n",
              "  </thead>\n",
              "  <tbody>\n",
              "    <tr>\n",
              "      <th>1992-01-02 00:00:00-05:00</th>\n",
              "      <td>3152.100098</td>\n",
              "      <td>3172.629883</td>\n",
              "      <td>3139.310059</td>\n",
              "      <td>3172.399902</td>\n",
              "      <td>23550000</td>\n",
              "      <td>3201.500000</td>\n",
              "      <td>1</td>\n",
              "    </tr>\n",
              "    <tr>\n",
              "      <th>1992-01-03 00:00:00-05:00</th>\n",
              "      <td>3172.399902</td>\n",
              "      <td>3210.639893</td>\n",
              "      <td>3165.919922</td>\n",
              "      <td>3201.500000</td>\n",
              "      <td>23620000</td>\n",
              "      <td>3200.100098</td>\n",
              "      <td>0</td>\n",
              "    </tr>\n",
              "    <tr>\n",
              "      <th>1992-01-06 00:00:00-05:00</th>\n",
              "      <td>3201.500000</td>\n",
              "      <td>3213.330078</td>\n",
              "      <td>3191.860107</td>\n",
              "      <td>3200.100098</td>\n",
              "      <td>27280000</td>\n",
              "      <td>3204.800049</td>\n",
              "      <td>1</td>\n",
              "    </tr>\n",
              "    <tr>\n",
              "      <th>1992-01-07 00:00:00-05:00</th>\n",
              "      <td>3200.100098</td>\n",
              "      <td>3210.199951</td>\n",
              "      <td>3184.479980</td>\n",
              "      <td>3204.800049</td>\n",
              "      <td>25510000</td>\n",
              "      <td>3203.899902</td>\n",
              "      <td>0</td>\n",
              "    </tr>\n",
              "    <tr>\n",
              "      <th>1992-01-08 00:00:00-05:00</th>\n",
              "      <td>3204.800049</td>\n",
              "      <td>3229.199951</td>\n",
              "      <td>3185.820068</td>\n",
              "      <td>3203.899902</td>\n",
              "      <td>29040000</td>\n",
              "      <td>3209.500000</td>\n",
              "      <td>1</td>\n",
              "    </tr>\n",
              "    <tr>\n",
              "      <th>...</th>\n",
              "      <td>...</td>\n",
              "      <td>...</td>\n",
              "      <td>...</td>\n",
              "      <td>...</td>\n",
              "      <td>...</td>\n",
              "      <td>...</td>\n",
              "      <td>...</td>\n",
              "    </tr>\n",
              "    <tr>\n",
              "      <th>2023-06-22 00:00:00-04:00</th>\n",
              "      <td>33900.468750</td>\n",
              "      <td>34003.558594</td>\n",
              "      <td>33835.390625</td>\n",
              "      <td>33946.710938</td>\n",
              "      <td>275600000</td>\n",
              "      <td>33727.429688</td>\n",
              "      <td>0</td>\n",
              "    </tr>\n",
              "    <tr>\n",
              "      <th>2023-06-23 00:00:00-04:00</th>\n",
              "      <td>33835.660156</td>\n",
              "      <td>33835.660156</td>\n",
              "      <td>33646.488281</td>\n",
              "      <td>33727.429688</td>\n",
              "      <td>379800000</td>\n",
              "      <td>33714.710938</td>\n",
              "      <td>0</td>\n",
              "    </tr>\n",
              "    <tr>\n",
              "      <th>2023-06-26 00:00:00-04:00</th>\n",
              "      <td>33730.789062</td>\n",
              "      <td>33819.488281</td>\n",
              "      <td>33610.320312</td>\n",
              "      <td>33714.710938</td>\n",
              "      <td>265330000</td>\n",
              "      <td>33926.738281</td>\n",
              "      <td>1</td>\n",
              "    </tr>\n",
              "    <tr>\n",
              "      <th>2023-06-27 00:00:00-04:00</th>\n",
              "      <td>33739.031250</td>\n",
              "      <td>33975.648438</td>\n",
              "      <td>33730.390625</td>\n",
              "      <td>33926.738281</td>\n",
              "      <td>293210000</td>\n",
              "      <td>33786.511719</td>\n",
              "      <td>0</td>\n",
              "    </tr>\n",
              "    <tr>\n",
              "      <th>2023-06-28 00:00:00-04:00</th>\n",
              "      <td>33881.378906</td>\n",
              "      <td>33903.761719</td>\n",
              "      <td>33755.921875</td>\n",
              "      <td>33786.511719</td>\n",
              "      <td>125127545</td>\n",
              "      <td>NaN</td>\n",
              "      <td>0</td>\n",
              "    </tr>\n",
              "  </tbody>\n",
              "</table>\n",
              "<p>7931 rows × 7 columns</p>\n",
              "</div>\n",
              "      <button class=\"colab-df-convert\" onclick=\"convertToInteractive('df-7045112b-5155-4548-a6f4-33a63a691bb7')\"\n",
              "              title=\"Convert this dataframe to an interactive table.\"\n",
              "              style=\"display:none;\">\n",
              "        \n",
              "  <svg xmlns=\"http://www.w3.org/2000/svg\" height=\"24px\"viewBox=\"0 0 24 24\"\n",
              "       width=\"24px\">\n",
              "    <path d=\"M0 0h24v24H0V0z\" fill=\"none\"/>\n",
              "    <path d=\"M18.56 5.44l.94 2.06.94-2.06 2.06-.94-2.06-.94-.94-2.06-.94 2.06-2.06.94zm-11 1L8.5 8.5l.94-2.06 2.06-.94-2.06-.94L8.5 2.5l-.94 2.06-2.06.94zm10 10l.94 2.06.94-2.06 2.06-.94-2.06-.94-.94-2.06-.94 2.06-2.06.94z\"/><path d=\"M17.41 7.96l-1.37-1.37c-.4-.4-.92-.59-1.43-.59-.52 0-1.04.2-1.43.59L10.3 9.45l-7.72 7.72c-.78.78-.78 2.05 0 2.83L4 21.41c.39.39.9.59 1.41.59.51 0 1.02-.2 1.41-.59l7.78-7.78 2.81-2.81c.8-.78.8-2.07 0-2.86zM5.41 20L4 18.59l7.72-7.72 1.47 1.35L5.41 20z\"/>\n",
              "  </svg>\n",
              "      </button>\n",
              "      \n",
              "  <style>\n",
              "    .colab-df-container {\n",
              "      display:flex;\n",
              "      flex-wrap:wrap;\n",
              "      gap: 12px;\n",
              "    }\n",
              "\n",
              "    .colab-df-convert {\n",
              "      background-color: #E8F0FE;\n",
              "      border: none;\n",
              "      border-radius: 50%;\n",
              "      cursor: pointer;\n",
              "      display: none;\n",
              "      fill: #1967D2;\n",
              "      height: 32px;\n",
              "      padding: 0 0 0 0;\n",
              "      width: 32px;\n",
              "    }\n",
              "\n",
              "    .colab-df-convert:hover {\n",
              "      background-color: #E2EBFA;\n",
              "      box-shadow: 0px 1px 2px rgba(60, 64, 67, 0.3), 0px 1px 3px 1px rgba(60, 64, 67, 0.15);\n",
              "      fill: #174EA6;\n",
              "    }\n",
              "\n",
              "    [theme=dark] .colab-df-convert {\n",
              "      background-color: #3B4455;\n",
              "      fill: #D2E3FC;\n",
              "    }\n",
              "\n",
              "    [theme=dark] .colab-df-convert:hover {\n",
              "      background-color: #434B5C;\n",
              "      box-shadow: 0px 1px 3px 1px rgba(0, 0, 0, 0.15);\n",
              "      filter: drop-shadow(0px 1px 2px rgba(0, 0, 0, 0.3));\n",
              "      fill: #FFFFFF;\n",
              "    }\n",
              "  </style>\n",
              "\n",
              "      <script>\n",
              "        const buttonEl =\n",
              "          document.querySelector('#df-7045112b-5155-4548-a6f4-33a63a691bb7 button.colab-df-convert');\n",
              "        buttonEl.style.display =\n",
              "          google.colab.kernel.accessAllowed ? 'block' : 'none';\n",
              "\n",
              "        async function convertToInteractive(key) {\n",
              "          const element = document.querySelector('#df-7045112b-5155-4548-a6f4-33a63a691bb7');\n",
              "          const dataTable =\n",
              "            await google.colab.kernel.invokeFunction('convertToInteractive',\n",
              "                                                     [key], {});\n",
              "          if (!dataTable) return;\n",
              "\n",
              "          const docLinkHtml = 'Like what you see? Visit the ' +\n",
              "            '<a target=\"_blank\" href=https://colab.research.google.com/notebooks/data_table.ipynb>data table notebook</a>'\n",
              "            + ' to learn more about interactive tables.';\n",
              "          element.innerHTML = '';\n",
              "          dataTable['output_type'] = 'display_data';\n",
              "          await google.colab.output.renderOutput(dataTable, element);\n",
              "          const docLink = document.createElement('div');\n",
              "          docLink.innerHTML = docLinkHtml;\n",
              "          element.appendChild(docLink);\n",
              "        }\n",
              "      </script>\n",
              "    </div>\n",
              "  </div>\n",
              "  "
            ]
          },
          "metadata": {},
          "execution_count": 52
        }
      ]
    },
    {
      "cell_type": "code",
      "source": [
        "sp500 = sp500.loc[startdate:].copy() #only take dates after 1990 can change this to an input later start date for model .copy() command helps us avoid pandas subset error later on possibly"
      ],
      "metadata": {
        "id": "avgzF3VU_cx3"
      },
      "execution_count": 53,
      "outputs": []
    },
    {
      "cell_type": "code",
      "source": [
        "sp500"
      ],
      "metadata": {
        "colab": {
          "base_uri": "https://localhost:8080/",
          "height": 455
        },
        "id": "bP8YPQcR_1-d",
        "outputId": "b686e930-81a4-48a4-f7a6-ecd72c1f918b"
      },
      "execution_count": 54,
      "outputs": [
        {
          "output_type": "execute_result",
          "data": {
            "text/plain": [
              "                                   Open          High           Low  \\\n",
              "Date                                                                  \n",
              "1992-01-02 00:00:00-05:00   3152.100098   3172.629883   3139.310059   \n",
              "1992-01-03 00:00:00-05:00   3172.399902   3210.639893   3165.919922   \n",
              "1992-01-06 00:00:00-05:00   3201.500000   3213.330078   3191.860107   \n",
              "1992-01-07 00:00:00-05:00   3200.100098   3210.199951   3184.479980   \n",
              "1992-01-08 00:00:00-05:00   3204.800049   3229.199951   3185.820068   \n",
              "...                                 ...           ...           ...   \n",
              "2023-06-22 00:00:00-04:00  33900.468750  34003.558594  33835.390625   \n",
              "2023-06-23 00:00:00-04:00  33835.660156  33835.660156  33646.488281   \n",
              "2023-06-26 00:00:00-04:00  33730.789062  33819.488281  33610.320312   \n",
              "2023-06-27 00:00:00-04:00  33739.031250  33975.648438  33730.390625   \n",
              "2023-06-28 00:00:00-04:00  33881.378906  33903.761719  33755.921875   \n",
              "\n",
              "                                  Close     Volume      Tommorow  Target  \n",
              "Date                                                                      \n",
              "1992-01-02 00:00:00-05:00   3172.399902   23550000   3201.500000       1  \n",
              "1992-01-03 00:00:00-05:00   3201.500000   23620000   3200.100098       0  \n",
              "1992-01-06 00:00:00-05:00   3200.100098   27280000   3204.800049       1  \n",
              "1992-01-07 00:00:00-05:00   3204.800049   25510000   3203.899902       0  \n",
              "1992-01-08 00:00:00-05:00   3203.899902   29040000   3209.500000       1  \n",
              "...                                 ...        ...           ...     ...  \n",
              "2023-06-22 00:00:00-04:00  33946.710938  275600000  33727.429688       0  \n",
              "2023-06-23 00:00:00-04:00  33727.429688  379800000  33714.710938       0  \n",
              "2023-06-26 00:00:00-04:00  33714.710938  265330000  33926.738281       1  \n",
              "2023-06-27 00:00:00-04:00  33926.738281  293210000  33786.511719       0  \n",
              "2023-06-28 00:00:00-04:00  33786.511719  125127545           NaN       0  \n",
              "\n",
              "[7931 rows x 7 columns]"
            ],
            "text/html": [
              "\n",
              "  <div id=\"df-960fbfbe-d708-43d4-9ea0-e397361fdc6a\">\n",
              "    <div class=\"colab-df-container\">\n",
              "      <div>\n",
              "<style scoped>\n",
              "    .dataframe tbody tr th:only-of-type {\n",
              "        vertical-align: middle;\n",
              "    }\n",
              "\n",
              "    .dataframe tbody tr th {\n",
              "        vertical-align: top;\n",
              "    }\n",
              "\n",
              "    .dataframe thead th {\n",
              "        text-align: right;\n",
              "    }\n",
              "</style>\n",
              "<table border=\"1\" class=\"dataframe\">\n",
              "  <thead>\n",
              "    <tr style=\"text-align: right;\">\n",
              "      <th></th>\n",
              "      <th>Open</th>\n",
              "      <th>High</th>\n",
              "      <th>Low</th>\n",
              "      <th>Close</th>\n",
              "      <th>Volume</th>\n",
              "      <th>Tommorow</th>\n",
              "      <th>Target</th>\n",
              "    </tr>\n",
              "    <tr>\n",
              "      <th>Date</th>\n",
              "      <th></th>\n",
              "      <th></th>\n",
              "      <th></th>\n",
              "      <th></th>\n",
              "      <th></th>\n",
              "      <th></th>\n",
              "      <th></th>\n",
              "    </tr>\n",
              "  </thead>\n",
              "  <tbody>\n",
              "    <tr>\n",
              "      <th>1992-01-02 00:00:00-05:00</th>\n",
              "      <td>3152.100098</td>\n",
              "      <td>3172.629883</td>\n",
              "      <td>3139.310059</td>\n",
              "      <td>3172.399902</td>\n",
              "      <td>23550000</td>\n",
              "      <td>3201.500000</td>\n",
              "      <td>1</td>\n",
              "    </tr>\n",
              "    <tr>\n",
              "      <th>1992-01-03 00:00:00-05:00</th>\n",
              "      <td>3172.399902</td>\n",
              "      <td>3210.639893</td>\n",
              "      <td>3165.919922</td>\n",
              "      <td>3201.500000</td>\n",
              "      <td>23620000</td>\n",
              "      <td>3200.100098</td>\n",
              "      <td>0</td>\n",
              "    </tr>\n",
              "    <tr>\n",
              "      <th>1992-01-06 00:00:00-05:00</th>\n",
              "      <td>3201.500000</td>\n",
              "      <td>3213.330078</td>\n",
              "      <td>3191.860107</td>\n",
              "      <td>3200.100098</td>\n",
              "      <td>27280000</td>\n",
              "      <td>3204.800049</td>\n",
              "      <td>1</td>\n",
              "    </tr>\n",
              "    <tr>\n",
              "      <th>1992-01-07 00:00:00-05:00</th>\n",
              "      <td>3200.100098</td>\n",
              "      <td>3210.199951</td>\n",
              "      <td>3184.479980</td>\n",
              "      <td>3204.800049</td>\n",
              "      <td>25510000</td>\n",
              "      <td>3203.899902</td>\n",
              "      <td>0</td>\n",
              "    </tr>\n",
              "    <tr>\n",
              "      <th>1992-01-08 00:00:00-05:00</th>\n",
              "      <td>3204.800049</td>\n",
              "      <td>3229.199951</td>\n",
              "      <td>3185.820068</td>\n",
              "      <td>3203.899902</td>\n",
              "      <td>29040000</td>\n",
              "      <td>3209.500000</td>\n",
              "      <td>1</td>\n",
              "    </tr>\n",
              "    <tr>\n",
              "      <th>...</th>\n",
              "      <td>...</td>\n",
              "      <td>...</td>\n",
              "      <td>...</td>\n",
              "      <td>...</td>\n",
              "      <td>...</td>\n",
              "      <td>...</td>\n",
              "      <td>...</td>\n",
              "    </tr>\n",
              "    <tr>\n",
              "      <th>2023-06-22 00:00:00-04:00</th>\n",
              "      <td>33900.468750</td>\n",
              "      <td>34003.558594</td>\n",
              "      <td>33835.390625</td>\n",
              "      <td>33946.710938</td>\n",
              "      <td>275600000</td>\n",
              "      <td>33727.429688</td>\n",
              "      <td>0</td>\n",
              "    </tr>\n",
              "    <tr>\n",
              "      <th>2023-06-23 00:00:00-04:00</th>\n",
              "      <td>33835.660156</td>\n",
              "      <td>33835.660156</td>\n",
              "      <td>33646.488281</td>\n",
              "      <td>33727.429688</td>\n",
              "      <td>379800000</td>\n",
              "      <td>33714.710938</td>\n",
              "      <td>0</td>\n",
              "    </tr>\n",
              "    <tr>\n",
              "      <th>2023-06-26 00:00:00-04:00</th>\n",
              "      <td>33730.789062</td>\n",
              "      <td>33819.488281</td>\n",
              "      <td>33610.320312</td>\n",
              "      <td>33714.710938</td>\n",
              "      <td>265330000</td>\n",
              "      <td>33926.738281</td>\n",
              "      <td>1</td>\n",
              "    </tr>\n",
              "    <tr>\n",
              "      <th>2023-06-27 00:00:00-04:00</th>\n",
              "      <td>33739.031250</td>\n",
              "      <td>33975.648438</td>\n",
              "      <td>33730.390625</td>\n",
              "      <td>33926.738281</td>\n",
              "      <td>293210000</td>\n",
              "      <td>33786.511719</td>\n",
              "      <td>0</td>\n",
              "    </tr>\n",
              "    <tr>\n",
              "      <th>2023-06-28 00:00:00-04:00</th>\n",
              "      <td>33881.378906</td>\n",
              "      <td>33903.761719</td>\n",
              "      <td>33755.921875</td>\n",
              "      <td>33786.511719</td>\n",
              "      <td>125127545</td>\n",
              "      <td>NaN</td>\n",
              "      <td>0</td>\n",
              "    </tr>\n",
              "  </tbody>\n",
              "</table>\n",
              "<p>7931 rows × 7 columns</p>\n",
              "</div>\n",
              "      <button class=\"colab-df-convert\" onclick=\"convertToInteractive('df-960fbfbe-d708-43d4-9ea0-e397361fdc6a')\"\n",
              "              title=\"Convert this dataframe to an interactive table.\"\n",
              "              style=\"display:none;\">\n",
              "        \n",
              "  <svg xmlns=\"http://www.w3.org/2000/svg\" height=\"24px\"viewBox=\"0 0 24 24\"\n",
              "       width=\"24px\">\n",
              "    <path d=\"M0 0h24v24H0V0z\" fill=\"none\"/>\n",
              "    <path d=\"M18.56 5.44l.94 2.06.94-2.06 2.06-.94-2.06-.94-.94-2.06-.94 2.06-2.06.94zm-11 1L8.5 8.5l.94-2.06 2.06-.94-2.06-.94L8.5 2.5l-.94 2.06-2.06.94zm10 10l.94 2.06.94-2.06 2.06-.94-2.06-.94-.94-2.06-.94 2.06-2.06.94z\"/><path d=\"M17.41 7.96l-1.37-1.37c-.4-.4-.92-.59-1.43-.59-.52 0-1.04.2-1.43.59L10.3 9.45l-7.72 7.72c-.78.78-.78 2.05 0 2.83L4 21.41c.39.39.9.59 1.41.59.51 0 1.02-.2 1.41-.59l7.78-7.78 2.81-2.81c.8-.78.8-2.07 0-2.86zM5.41 20L4 18.59l7.72-7.72 1.47 1.35L5.41 20z\"/>\n",
              "  </svg>\n",
              "      </button>\n",
              "      \n",
              "  <style>\n",
              "    .colab-df-container {\n",
              "      display:flex;\n",
              "      flex-wrap:wrap;\n",
              "      gap: 12px;\n",
              "    }\n",
              "\n",
              "    .colab-df-convert {\n",
              "      background-color: #E8F0FE;\n",
              "      border: none;\n",
              "      border-radius: 50%;\n",
              "      cursor: pointer;\n",
              "      display: none;\n",
              "      fill: #1967D2;\n",
              "      height: 32px;\n",
              "      padding: 0 0 0 0;\n",
              "      width: 32px;\n",
              "    }\n",
              "\n",
              "    .colab-df-convert:hover {\n",
              "      background-color: #E2EBFA;\n",
              "      box-shadow: 0px 1px 2px rgba(60, 64, 67, 0.3), 0px 1px 3px 1px rgba(60, 64, 67, 0.15);\n",
              "      fill: #174EA6;\n",
              "    }\n",
              "\n",
              "    [theme=dark] .colab-df-convert {\n",
              "      background-color: #3B4455;\n",
              "      fill: #D2E3FC;\n",
              "    }\n",
              "\n",
              "    [theme=dark] .colab-df-convert:hover {\n",
              "      background-color: #434B5C;\n",
              "      box-shadow: 0px 1px 3px 1px rgba(0, 0, 0, 0.15);\n",
              "      filter: drop-shadow(0px 1px 2px rgba(0, 0, 0, 0.3));\n",
              "      fill: #FFFFFF;\n",
              "    }\n",
              "  </style>\n",
              "\n",
              "      <script>\n",
              "        const buttonEl =\n",
              "          document.querySelector('#df-960fbfbe-d708-43d4-9ea0-e397361fdc6a button.colab-df-convert');\n",
              "        buttonEl.style.display =\n",
              "          google.colab.kernel.accessAllowed ? 'block' : 'none';\n",
              "\n",
              "        async function convertToInteractive(key) {\n",
              "          const element = document.querySelector('#df-960fbfbe-d708-43d4-9ea0-e397361fdc6a');\n",
              "          const dataTable =\n",
              "            await google.colab.kernel.invokeFunction('convertToInteractive',\n",
              "                                                     [key], {});\n",
              "          if (!dataTable) return;\n",
              "\n",
              "          const docLinkHtml = 'Like what you see? Visit the ' +\n",
              "            '<a target=\"_blank\" href=https://colab.research.google.com/notebooks/data_table.ipynb>data table notebook</a>'\n",
              "            + ' to learn more about interactive tables.';\n",
              "          element.innerHTML = '';\n",
              "          dataTable['output_type'] = 'display_data';\n",
              "          await google.colab.output.renderOutput(dataTable, element);\n",
              "          const docLink = document.createElement('div');\n",
              "          docLink.innerHTML = docLinkHtml;\n",
              "          element.appendChild(docLink);\n",
              "        }\n",
              "      </script>\n",
              "    </div>\n",
              "  </div>\n",
              "  "
            ]
          },
          "metadata": {},
          "execution_count": 54
        }
      ]
    },
    {
      "cell_type": "code",
      "source": [
        "from sklearn.ensemble import RandomForestClassifier"
      ],
      "metadata": {
        "id": "wV1mkv5a_3A6"
      },
      "execution_count": 55,
      "outputs": []
    },
    {
      "cell_type": "markdown",
      "source": [
        "Random forest model: random forest works by training individual decision trees with randomized parameters then averaging those decision trees resistant to overfit, and run quickly and pick up nonlinear tendencies (if price is higher does not also mean target must be higher: nonlinear) most stock market correlations are nonlinear. Almost impossible to find a linear relationship in stocks."
      ],
      "metadata": {
        "id": "J8ZbOnyXAwnD"
      }
    },
    {
      "cell_type": "code",
      "source": [
        "model = RandomForestClassifier(n_estimators=100,min_samples_split=100, random_state=1)"
      ],
      "metadata": {
        "id": "8me7dRS1AvhO"
      },
      "execution_count": 56,
      "outputs": []
    },
    {
      "cell_type": "markdown",
      "source": [
        "#n_estimators is num of decision trees: higher vals= more accurate but longer runtime. Min_sample_split protects against overfitting: higher vals = lower accuracy, random state =1 : 1 here is the seed to generate the random #s for the random forest off of so that if we run the same program twice we get the same \"random nums\""
      ],
      "metadata": {
        "id": "T8kFhFsjCHpY"
      }
    },
    {
      "cell_type": "code",
      "source": [
        "train = sp500.iloc[:-100] #cannot use cross validation as in real world you will not have future data to train historical model\n",
        "test = sp500.iloc[-100:] #split the data into training and test sets. All but last 100 rows are training and last 100 is test set change to 0.8 like used in other model\n",
        "\n",
        "predictors = [\"Close\", \"Volume\",\"Open\",\"High\",\"Low\"] #estabilish which cloumns we are using for making predictions: making sure to not include the tommorow or target columns so the model doesn't know the future\n",
        "model.fit(train[predictors],train[\"Target\"]) #this command \"fits\" the model, here we are using the predictors array columns in order to predict the \"Target\" Column"
      ],
      "metadata": {
        "colab": {
          "base_uri": "https://localhost:8080/",
          "height": 75
        },
        "id": "uxLfsRAUCFAk",
        "outputId": "065642bb-7d92-445a-bf5e-b8c76fd67d93"
      },
      "execution_count": 57,
      "outputs": [
        {
          "output_type": "execute_result",
          "data": {
            "text/plain": [
              "RandomForestClassifier(min_samples_split=100, random_state=1)"
            ],
            "text/html": [
              "<style>#sk-container-id-2 {color: black;background-color: white;}#sk-container-id-2 pre{padding: 0;}#sk-container-id-2 div.sk-toggleable {background-color: white;}#sk-container-id-2 label.sk-toggleable__label {cursor: pointer;display: block;width: 100%;margin-bottom: 0;padding: 0.3em;box-sizing: border-box;text-align: center;}#sk-container-id-2 label.sk-toggleable__label-arrow:before {content: \"▸\";float: left;margin-right: 0.25em;color: #696969;}#sk-container-id-2 label.sk-toggleable__label-arrow:hover:before {color: black;}#sk-container-id-2 div.sk-estimator:hover label.sk-toggleable__label-arrow:before {color: black;}#sk-container-id-2 div.sk-toggleable__content {max-height: 0;max-width: 0;overflow: hidden;text-align: left;background-color: #f0f8ff;}#sk-container-id-2 div.sk-toggleable__content pre {margin: 0.2em;color: black;border-radius: 0.25em;background-color: #f0f8ff;}#sk-container-id-2 input.sk-toggleable__control:checked~div.sk-toggleable__content {max-height: 200px;max-width: 100%;overflow: auto;}#sk-container-id-2 input.sk-toggleable__control:checked~label.sk-toggleable__label-arrow:before {content: \"▾\";}#sk-container-id-2 div.sk-estimator input.sk-toggleable__control:checked~label.sk-toggleable__label {background-color: #d4ebff;}#sk-container-id-2 div.sk-label input.sk-toggleable__control:checked~label.sk-toggleable__label {background-color: #d4ebff;}#sk-container-id-2 input.sk-hidden--visually {border: 0;clip: rect(1px 1px 1px 1px);clip: rect(1px, 1px, 1px, 1px);height: 1px;margin: -1px;overflow: hidden;padding: 0;position: absolute;width: 1px;}#sk-container-id-2 div.sk-estimator {font-family: monospace;background-color: #f0f8ff;border: 1px dotted black;border-radius: 0.25em;box-sizing: border-box;margin-bottom: 0.5em;}#sk-container-id-2 div.sk-estimator:hover {background-color: #d4ebff;}#sk-container-id-2 div.sk-parallel-item::after {content: \"\";width: 100%;border-bottom: 1px solid gray;flex-grow: 1;}#sk-container-id-2 div.sk-label:hover label.sk-toggleable__label {background-color: #d4ebff;}#sk-container-id-2 div.sk-serial::before {content: \"\";position: absolute;border-left: 1px solid gray;box-sizing: border-box;top: 0;bottom: 0;left: 50%;z-index: 0;}#sk-container-id-2 div.sk-serial {display: flex;flex-direction: column;align-items: center;background-color: white;padding-right: 0.2em;padding-left: 0.2em;position: relative;}#sk-container-id-2 div.sk-item {position: relative;z-index: 1;}#sk-container-id-2 div.sk-parallel {display: flex;align-items: stretch;justify-content: center;background-color: white;position: relative;}#sk-container-id-2 div.sk-item::before, #sk-container-id-2 div.sk-parallel-item::before {content: \"\";position: absolute;border-left: 1px solid gray;box-sizing: border-box;top: 0;bottom: 0;left: 50%;z-index: -1;}#sk-container-id-2 div.sk-parallel-item {display: flex;flex-direction: column;z-index: 1;position: relative;background-color: white;}#sk-container-id-2 div.sk-parallel-item:first-child::after {align-self: flex-end;width: 50%;}#sk-container-id-2 div.sk-parallel-item:last-child::after {align-self: flex-start;width: 50%;}#sk-container-id-2 div.sk-parallel-item:only-child::after {width: 0;}#sk-container-id-2 div.sk-dashed-wrapped {border: 1px dashed gray;margin: 0 0.4em 0.5em 0.4em;box-sizing: border-box;padding-bottom: 0.4em;background-color: white;}#sk-container-id-2 div.sk-label label {font-family: monospace;font-weight: bold;display: inline-block;line-height: 1.2em;}#sk-container-id-2 div.sk-label-container {text-align: center;}#sk-container-id-2 div.sk-container {/* jupyter's `normalize.less` sets `[hidden] { display: none; }` but bootstrap.min.css set `[hidden] { display: none !important; }` so we also need the `!important` here to be able to override the default hidden behavior on the sphinx rendered scikit-learn.org. See: https://github.com/scikit-learn/scikit-learn/issues/21755 */display: inline-block !important;position: relative;}#sk-container-id-2 div.sk-text-repr-fallback {display: none;}</style><div id=\"sk-container-id-2\" class=\"sk-top-container\"><div class=\"sk-text-repr-fallback\"><pre>RandomForestClassifier(min_samples_split=100, random_state=1)</pre><b>In a Jupyter environment, please rerun this cell to show the HTML representation or trust the notebook. <br />On GitHub, the HTML representation is unable to render, please try loading this page with nbviewer.org.</b></div><div class=\"sk-container\" hidden><div class=\"sk-item\"><div class=\"sk-estimator sk-toggleable\"><input class=\"sk-toggleable__control sk-hidden--visually\" id=\"sk-estimator-id-2\" type=\"checkbox\" checked><label for=\"sk-estimator-id-2\" class=\"sk-toggleable__label sk-toggleable__label-arrow\">RandomForestClassifier</label><div class=\"sk-toggleable__content\"><pre>RandomForestClassifier(min_samples_split=100, random_state=1)</pre></div></div></div></div></div>"
            ]
          },
          "metadata": {},
          "execution_count": 57
        }
      ]
    },
    {
      "cell_type": "code",
      "source": [
        "from sklearn.metrics import precision_score #import something to check the precision of of forecasts\n",
        "preds = model.predict(test[predictors]) #array to hold our predictions\n",
        "preds"
      ],
      "metadata": {
        "colab": {
          "base_uri": "https://localhost:8080/"
        },
        "id": "3gbdBXMrDyrb",
        "outputId": "3223dc77-f64f-420c-c84a-3f2ee04c52b6"
      },
      "execution_count": 58,
      "outputs": [
        {
          "output_type": "execute_result",
          "data": {
            "text/plain": [
              "array([0, 1, 1, 1, 1, 1, 1, 1, 1, 1, 1, 1, 1, 1, 1, 1, 1, 1, 1, 1, 1, 1,\n",
              "       1, 1, 1, 1, 1, 1, 1, 1, 1, 1, 1, 1, 1, 1, 1, 1, 1, 0, 1, 1, 1, 1,\n",
              "       1, 1, 1, 1, 1, 1, 1, 1, 1, 1, 1, 1, 1, 1, 1, 1, 1, 1, 1, 1, 1, 1,\n",
              "       1, 1, 1, 1, 1, 1, 1, 1, 1, 1, 1, 1, 1, 1, 1, 1, 1, 1, 1, 1, 1, 1,\n",
              "       1, 1, 1, 1, 0, 1, 1, 1, 1, 1, 1, 1])"
            ]
          },
          "metadata": {},
          "execution_count": 58
        }
      ]
    },
    {
      "cell_type": "code",
      "source": [
        "import pandas as pd\n",
        "\n",
        "preds = pd.Series(preds, index=test.index) #change hard to work with numPy array into a pandas dataseries array\n",
        "\n",
        "preds"
      ],
      "metadata": {
        "colab": {
          "base_uri": "https://localhost:8080/"
        },
        "id": "LRhVA0qCD-mF",
        "outputId": "da9f2642-66a8-4657-d170-ddb349b8bdf4"
      },
      "execution_count": 59,
      "outputs": [
        {
          "output_type": "execute_result",
          "data": {
            "text/plain": [
              "Date\n",
              "2023-02-03 00:00:00-05:00    0\n",
              "2023-02-06 00:00:00-05:00    1\n",
              "2023-02-07 00:00:00-05:00    1\n",
              "2023-02-08 00:00:00-05:00    1\n",
              "2023-02-09 00:00:00-05:00    1\n",
              "                            ..\n",
              "2023-06-22 00:00:00-04:00    1\n",
              "2023-06-23 00:00:00-04:00    1\n",
              "2023-06-26 00:00:00-04:00    1\n",
              "2023-06-27 00:00:00-04:00    1\n",
              "2023-06-28 00:00:00-04:00    1\n",
              "Length: 100, dtype: int64"
            ]
          },
          "metadata": {},
          "execution_count": 59
        }
      ]
    },
    {
      "cell_type": "code",
      "source": [
        "precision_score(test[\"Target\"], preds) #here we can see our model onyl predicted correctly 64% of the time"
      ],
      "metadata": {
        "colab": {
          "base_uri": "https://localhost:8080/"
        },
        "id": "UeRvGQzhEnAU",
        "outputId": "8dbf8d55-3349-4313-d66f-6b6b25bf2315"
      },
      "execution_count": 60,
      "outputs": [
        {
          "output_type": "execute_result",
          "data": {
            "text/plain": [
              "0.4742268041237113"
            ]
          },
          "metadata": {},
          "execution_count": 60
        }
      ]
    },
    {
      "cell_type": "code",
      "source": [
        "combined = pd.concat([test[\"Target\"], preds], axis =1) # axis =1 means treat each input as its own column. Concatenate the predictions and actual values to able to see them visually on a graph how accurate we were"
      ],
      "metadata": {
        "id": "nWctleHiFC80"
      },
      "execution_count": 61,
      "outputs": []
    },
    {
      "cell_type": "code",
      "source": [
        "combined.plot() #orange is our predictions blue is what actually happened: whether the market actually went up or down"
      ],
      "metadata": {
        "colab": {
          "base_uri": "https://localhost:8080/",
          "height": 451
        },
        "id": "Ni8YBQ4hF0vE",
        "outputId": "ee4c0b40-1dff-486f-c513-978e31de0eb3"
      },
      "execution_count": 62,
      "outputs": [
        {
          "output_type": "execute_result",
          "data": {
            "text/plain": [
              "<Axes: xlabel='Date'>"
            ]
          },
          "metadata": {},
          "execution_count": 62
        },
        {
          "output_type": "display_data",
          "data": {
            "text/plain": [
              "<Figure size 640x480 with 1 Axes>"
            ],
            "image/png": "[encoded data removed]"
          },
          "metadata": {}
        }
      ]
    },
    {
      "cell_type": "code",
      "source": [
        "def predict(train, test, predictors, model): #define a predict function that does all that has been done so far into one function\n",
        "  model.fit(train[predictors], train[\"Target\"])\n",
        "  preds = model.predict(test[predictors])\n",
        "  preds = pd.Series(preds, index=test.index, name = \"Predictions\")\n",
        "  combined = pd.concat([test[\"Target\"], preds], axis =1)\n",
        "  return combined\n"
      ],
      "metadata": {
        "id": "lSv_oypXF9Ox"
      },
      "execution_count": 63,
      "outputs": []
    },
    {
      "cell_type": "code",
      "source": [
        "def backtest(data, model, predictors, start = 2500, step = 250):\n",
        "  all_predictions = []\n",
        "\n",
        "  for i in range(start, data.shape[0], step): #this for loop will loop through the data starting after the intitial 2500 days year by year (250 days)\n",
        "    train = data.iloc[0:i].copy() #split the data into test and training sets, using the .copy() again to avoid error\n",
        "    test = data.iloc[i:(i+step)].copy() #here you can see the train and test set changes with the training set expanding to include the precious step\n",
        "    predictions = predict(train, test, predictors, model) #call the predict function above\n",
        "    all_predictions.append(predictions) #save predictions\n",
        "  return pd.concat(all_predictions) #return array of all predictions\n"
      ],
      "metadata": {
        "id": "b2a8nF1oG0sg"
      },
      "execution_count": 64,
      "outputs": []
    },
    {
      "cell_type": "markdown",
      "source": [
        "#each year has 250 trading days, so this is taking 10 years of data and training the model. Then it takes the next 250 days and to predict the next year, then repeats the process. for example it trains from 2000-2010 then uses that data to train 2011. Then it uses 2000-2011 to predict 2012, then 2000-2012 to predict 2013. the first years (2500) days will not be predicted by the model but used solely as a training set. it will start from the 11th year predictions."
      ],
      "metadata": {
        "id": "fCQfFeJkHsJ_"
      }
    },
    {
      "cell_type": "code",
      "source": [
        "predictions = backtest(sp500, model, predictors) #backtest our model"
      ],
      "metadata": {
        "id": "DVgKY1aAHs7i"
      },
      "execution_count": 65,
      "outputs": []
    },
    {
      "cell_type": "code",
      "source": [
        "predictions[\"Predictions\"].value_counts() #call the predictions (preds array) and see how many times we predicted up or down"
      ],
      "metadata": {
        "colab": {
          "base_uri": "https://localhost:8080/"
        },
        "id": "xi4vb2rlJ8U8",
        "outputId": "3f767902-8f61-486d-e5ac-ec0dc990ee70"
      },
      "execution_count": 66,
      "outputs": [
        {
          "output_type": "execute_result",
          "data": {
            "text/plain": [
              "0    2809\n",
              "1    2622\n",
              "Name: Predictions, dtype: int64"
            ]
          },
          "metadata": {},
          "execution_count": 66
        }
      ]
    },
    {
      "cell_type": "code",
      "source": [
        "precision_score(predictions[\"Target\"],predictions[\"Predictions\"]) #prediction precision with backtesting model ( unfortunately our precision actually went down :(  )"
      ],
      "metadata": {
        "colab": {
          "base_uri": "https://localhost:8080/"
        },
        "id": "9rhhgPAkKN8R",
        "outputId": "b0149ac3-886f-45b8-bd93-83167c80b687"
      },
      "execution_count": 67,
      "outputs": [
        {
          "output_type": "execute_result",
          "data": {
            "text/plain": [
              "0.5327993897787948"
            ]
          },
          "metadata": {},
          "execution_count": 67
        }
      ]
    },
    {
      "cell_type": "code",
      "source": [
        "predictions[\"Target\"].value_counts() / predictions.shape[0] #actual percentage of times the market went up or down, better than our model."
      ],
      "metadata": {
        "colab": {
          "base_uri": "https://localhost:8080/"
        },
        "id": "Q7d3WDIMKnpo",
        "outputId": "b26e4cbc-9ee1-44fa-a0ba-62bfcd417623"
      },
      "execution_count": 68,
      "outputs": [
        {
          "output_type": "execute_result",
          "data": {
            "text/plain": [
              "1    0.532499\n",
              "0    0.467501\n",
              "Name: Target, dtype: float64"
            ]
          },
          "metadata": {},
          "execution_count": 68
        }
      ]
    },
    {
      "cell_type": "code",
      "source": [
        "horizons = [2,5,60,250,1000] # we are now going to get rolling averages for the close price for these horizons: last 2 days, 5days...1000days. Then compare the close price of today to these averages to make predictions such as if the market has gone down alot, it may be due for a correction to the upside."
      ],
      "metadata": {
        "id": "p6TtVdTVLEva"
      },
      "execution_count": 69,
      "outputs": []
    },
    {
      "cell_type": "code",
      "source": [
        "new_predictors = []\n",
        "\n",
        "for horizon in horizons:\n",
        "  rolling_averages = sp500.rolling(horizon).mean() #compute the rolling average of any column based on the last (horizon) number of terms\n",
        "\n",
        "  ratio_column = f\"Close_Ratio_{horizon}\" #add in a new column\n",
        "  sp500[ratio_column] =sp500[\"Close\"] / rolling_averages[\"Close\"] #compute the ratio between the current close and the rolloing average\n",
        "\n",
        "  trend_column = f\"Trend_{horizon}\" #create a new column trend column for storing the trend of uptrun or downturn\n",
        "  sp500[trend_column] = sp500.shift(1).rolling(horizon).sum()[\"Target\"] #compute the sum of the targets up to the last (horizon) number of values. The shift is shifting one row forward\n",
        "  new_predictors += [ratio_column, trend_column] #add these column to the new predictors array\n"
      ],
      "metadata": {
        "id": "_CAHAY2wLoh-"
      },
      "execution_count": 70,
      "outputs": []
    },
    {
      "cell_type": "code",
      "source": [
        "sp500"
      ],
      "metadata": {
        "colab": {
          "base_uri": "https://localhost:8080/",
          "height": 1000
        },
        "id": "xve30gcdUsn0",
        "outputId": "e2c10647-a871-4932-c5c3-15cbe4600195"
      },
      "execution_count": 71,
      "outputs": [
        {
          "output_type": "execute_result",
          "data": {
            "text/plain": [
              "                                   Open          High           Low  \\\n",
              "Date                                                                  \n",
              "1992-01-02 00:00:00-05:00   3152.100098   3172.629883   3139.310059   \n",
              "1992-01-03 00:00:00-05:00   3172.399902   3210.639893   3165.919922   \n",
              "1992-01-06 00:00:00-05:00   3201.500000   3213.330078   3191.860107   \n",
              "1992-01-07 00:00:00-05:00   3200.100098   3210.199951   3184.479980   \n",
              "1992-01-08 00:00:00-05:00   3204.800049   3229.199951   3185.820068   \n",
              "...                                 ...           ...           ...   \n",
              "2023-06-22 00:00:00-04:00  33900.468750  34003.558594  33835.390625   \n",
              "2023-06-23 00:00:00-04:00  33835.660156  33835.660156  33646.488281   \n",
              "2023-06-26 00:00:00-04:00  33730.789062  33819.488281  33610.320312   \n",
              "2023-06-27 00:00:00-04:00  33739.031250  33975.648438  33730.390625   \n",
              "2023-06-28 00:00:00-04:00  33881.378906  33903.761719  33755.921875   \n",
              "\n",
              "                                  Close     Volume      Tommorow  Target  \\\n",
              "Date                                                                       \n",
              "1992-01-02 00:00:00-05:00   3172.399902   23550000   3201.500000       1   \n",
              "1992-01-03 00:00:00-05:00   3201.500000   23620000   3200.100098       0   \n",
              "1992-01-06 00:00:00-05:00   3200.100098   27280000   3204.800049       1   \n",
              "1992-01-07 00:00:00-05:00   3204.800049   25510000   3203.899902       0   \n",
              "1992-01-08 00:00:00-05:00   3203.899902   29040000   3209.500000       1   \n",
              "...                                 ...        ...           ...     ...   \n",
              "2023-06-22 00:00:00-04:00  33946.710938  275600000  33727.429688       0   \n",
              "2023-06-23 00:00:00-04:00  33727.429688  379800000  33714.710938       0   \n",
              "2023-06-26 00:00:00-04:00  33714.710938  265330000  33926.738281       1   \n",
              "2023-06-27 00:00:00-04:00  33926.738281  293210000  33786.511719       0   \n",
              "2023-06-28 00:00:00-04:00  33786.511719  125127545           NaN       0   \n",
              "\n",
              "                           Close_Ratio_2  Trend_2  Close_Ratio_5  Trend_5  \\\n",
              "Date                                                                        \n",
              "1992-01-02 00:00:00-05:00            NaN      NaN            NaN      NaN   \n",
              "1992-01-03 00:00:00-05:00       1.004566      NaN            NaN      NaN   \n",
              "1992-01-06 00:00:00-05:00       0.999781      1.0            NaN      NaN   \n",
              "1992-01-07 00:00:00-05:00       1.000734      1.0            NaN      NaN   \n",
              "1992-01-08 00:00:00-05:00       0.999860      1.0       1.002302      NaN   \n",
              "...                                  ...      ...            ...      ...   \n",
              "2023-06-22 00:00:00-04:00       0.999929      0.0       0.994576      1.0   \n",
              "2023-06-23 00:00:00-04:00       0.996760      0.0       0.992108      0.0   \n",
              "2023-06-26 00:00:00-04:00       0.999811      0.0       0.995155      0.0   \n",
              "2023-06-27 00:00:00-04:00       1.003135      1.0       1.002166      1.0   \n",
              "2023-06-28 00:00:00-04:00       0.997929      1.0       0.998997      1.0   \n",
              "\n",
              "                           Close_Ratio_60  Trend_60  Close_Ratio_250  \\\n",
              "Date                                                                   \n",
              "1992-01-02 00:00:00-05:00             NaN       NaN              NaN   \n",
              "1992-01-03 00:00:00-05:00             NaN       NaN              NaN   \n",
              "1992-01-06 00:00:00-05:00             NaN       NaN              NaN   \n",
              "1992-01-07 00:00:00-05:00             NaN       NaN              NaN   \n",
              "1992-01-08 00:00:00-05:00             NaN       NaN              NaN   \n",
              "...                                   ...       ...              ...   \n",
              "2023-06-22 00:00:00-04:00        1.011643      28.0         1.037768   \n",
              "2023-06-23 00:00:00-04:00        1.004443      28.0         1.030783   \n",
              "2023-06-26 00:00:00-04:00        1.003567      27.0         1.030108   \n",
              "2023-06-27 00:00:00-04:00        1.009344      27.0         1.036209   \n",
              "2023-06-28 00:00:00-04:00        1.004917      26.0         1.031579   \n",
              "\n",
              "                           Trend_250  Close_Ratio_1000  Trend_1000  \n",
              "Date                                                                \n",
              "1992-01-02 00:00:00-05:00        NaN               NaN         NaN  \n",
              "1992-01-03 00:00:00-05:00        NaN               NaN         NaN  \n",
              "1992-01-06 00:00:00-05:00        NaN               NaN         NaN  \n",
              "1992-01-07 00:00:00-05:00        NaN               NaN         NaN  \n",
              "1992-01-08 00:00:00-05:00        NaN               NaN         NaN  \n",
              "...                              ...               ...         ...  \n",
              "2023-06-22 00:00:00-04:00      126.0          1.095044       535.0  \n",
              "2023-06-23 00:00:00-04:00      125.0          1.087734       534.0  \n",
              "2023-06-26 00:00:00-04:00      125.0          1.087085       534.0  \n",
              "2023-06-27 00:00:00-04:00      126.0          1.093671       535.0  \n",
              "2023-06-28 00:00:00-04:00      125.0          1.088904       535.0  \n",
              "\n",
              "[7931 rows x 17 columns]"
            ],
            "text/html": [
              "\n",
              "  <div id=\"df-45e4e49b-0d3d-4485-9a0a-3d7246a829f8\">\n",
              "    <div class=\"colab-df-container\">\n",
              "      <div>\n",
              "<style scoped>\n",
              "    .dataframe tbody tr th:only-of-type {\n",
              "        vertical-align: middle;\n",
              "    }\n",
              "\n",
              "    .dataframe tbody tr th {\n",
              "        vertical-align: top;\n",
              "    }\n",
              "\n",
              "    .dataframe thead th {\n",
              "        text-align: right;\n",
              "    }\n",
              "</style>\n",
              "<table border=\"1\" class=\"dataframe\">\n",
              "  <thead>\n",
              "    <tr style=\"text-align: right;\">\n",
              "      <th></th>\n",
              "      <th>Open</th>\n",
              "      <th>High</th>\n",
              "      <th>Low</th>\n",
              "      <th>Close</th>\n",
              "      <th>Volume</th>\n",
              "      <th>Tommorow</th>\n",
              "      <th>Target</th>\n",
              "      <th>Close_Ratio_2</th>\n",
              "      <th>Trend_2</th>\n",
              "      <th>Close_Ratio_5</th>\n",
              "      <th>Trend_5</th>\n",
              "      <th>Close_Ratio_60</th>\n",
              "      <th>Trend_60</th>\n",
              "      <th>Close_Ratio_250</th>\n",
              "      <th>Trend_250</th>\n",
              "      <th>Close_Ratio_1000</th>\n",
              "      <th>Trend_1000</th>\n",
              "    </tr>\n",
              "    <tr>\n",
              "      <th>Date</th>\n",
              "      <th></th>\n",
              "      <th></th>\n",
              "      <th></th>\n",
              "      <th></th>\n",
              "      <th></th>\n",
              "      <th></th>\n",
              "      <th></th>\n",
              "      <th></th>\n",
              "      <th></th>\n",
              "      <th></th>\n",
              "      <th></th>\n",
              "      <th></th>\n",
              "      <th></th>\n",
              "      <th></th>\n",
              "      <th></th>\n",
              "      <th></th>\n",
              "      <th></th>\n",
              "    </tr>\n",
              "  </thead>\n",
              "  <tbody>\n",
              "    <tr>\n",
              "      <th>1992-01-02 00:00:00-05:00</th>\n",
              "      <td>3152.100098</td>\n",
              "      <td>3172.629883</td>\n",
              "      <td>3139.310059</td>\n",
              "      <td>3172.399902</td>\n",
              "      <td>23550000</td>\n",
              "      <td>3201.500000</td>\n",
              "      <td>1</td>\n",
              "      <td>NaN</td>\n",
              "      <td>NaN</td>\n",
              "      <td>NaN</td>\n",
              "      <td>NaN</td>\n",
              "      <td>NaN</td>\n",
              "      <td>NaN</td>\n",
              "      <td>NaN</td>\n",
              "      <td>NaN</td>\n",
              "      <td>NaN</td>\n",
              "      <td>NaN</td>\n",
              "    </tr>\n",
              "    <tr>\n",
              "      <th>1992-01-03 00:00:00-05:00</th>\n",
              "      <td>3172.399902</td>\n",
              "      <td>3210.639893</td>\n",
              "      <td>3165.919922</td>\n",
              "      <td>3201.500000</td>\n",
              "      <td>23620000</td>\n",
              "      <td>3200.100098</td>\n",
              "      <td>0</td>\n",
              "      <td>1.004566</td>\n",
              "      <td>NaN</td>\n",
              "      <td>NaN</td>\n",
              "      <td>NaN</td>\n",
              "      <td>NaN</td>\n",
              "      <td>NaN</td>\n",
              "      <td>NaN</td>\n",
              "      <td>NaN</td>\n",
              "      <td>NaN</td>\n",
              "      <td>NaN</td>\n",
              "    </tr>\n",
              "    <tr>\n",
              "      <th>1992-01-06 00:00:00-05:00</th>\n",
              "      <td>3201.500000</td>\n",
              "      <td>3213.330078</td>\n",
              "      <td>3191.860107</td>\n",
              "      <td>3200.100098</td>\n",
              "      <td>27280000</td>\n",
              "      <td>3204.800049</td>\n",
              "      <td>1</td>\n",
              "      <td>0.999781</td>\n",
              "      <td>1.0</td>\n",
              "      <td>NaN</td>\n",
              "      <td>NaN</td>\n",
              "      <td>NaN</td>\n",
              "      <td>NaN</td>\n",
              "      <td>NaN</td>\n",
              "      <td>NaN</td>\n",
              "      <td>NaN</td>\n",
              "      <td>NaN</td>\n",
              "    </tr>\n",
              "    <tr>\n",
              "      <th>1992-01-07 00:00:00-05:00</th>\n",
              "      <td>3200.100098</td>\n",
              "      <td>3210.199951</td>\n",
              "      <td>3184.479980</td>\n",
              "      <td>3204.800049</td>\n",
              "      <td>25510000</td>\n",
              "      <td>3203.899902</td>\n",
              "      <td>0</td>\n",
              "      <td>1.000734</td>\n",
              "      <td>1.0</td>\n",
              "      <td>NaN</td>\n",
              "      <td>NaN</td>\n",
              "      <td>NaN</td>\n",
              "      <td>NaN</td>\n",
              "      <td>NaN</td>\n",
              "      <td>NaN</td>\n",
              "      <td>NaN</td>\n",
              "      <td>NaN</td>\n",
              "    </tr>\n",
              "    <tr>\n",
              "      <th>1992-01-08 00:00:00-05:00</th>\n",
              "      <td>3204.800049</td>\n",
              "      <td>3229.199951</td>\n",
              "      <td>3185.820068</td>\n",
              "      <td>3203.899902</td>\n",
              "      <td>29040000</td>\n",
              "      <td>3209.500000</td>\n",
              "      <td>1</td>\n",
              "      <td>0.999860</td>\n",
              "      <td>1.0</td>\n",
              "      <td>1.002302</td>\n",
              "      <td>NaN</td>\n",
              "      <td>NaN</td>\n",
              "      <td>NaN</td>\n",
              "      <td>NaN</td>\n",
              "      <td>NaN</td>\n",
              "      <td>NaN</td>\n",
              "      <td>NaN</td>\n",
              "    </tr>\n",
              "    <tr>\n",
              "      <th>...</th>\n",
              "      <td>...</td>\n",
              "      <td>...</td>\n",
              "      <td>...</td>\n",
              "      <td>...</td>\n",
              "      <td>...</td>\n",
              "      <td>...</td>\n",
              "      <td>...</td>\n",
              "      <td>...</td>\n",
              "      <td>...</td>\n",
              "      <td>...</td>\n",
              "      <td>...</td>\n",
              "      <td>...</td>\n",
              "      <td>...</td>\n",
              "      <td>...</td>\n",
              "      <td>...</td>\n",
              "      <td>...</td>\n",
              "      <td>...</td>\n",
              "    </tr>\n",
              "    <tr>\n",
              "      <th>2023-06-22 00:00:00-04:00</th>\n",
              "      <td>33900.468750</td>\n",
              "      <td>34003.558594</td>\n",
              "      <td>33835.390625</td>\n",
              "      <td>33946.710938</td>\n",
              "      <td>275600000</td>\n",
              "      <td>33727.429688</td>\n",
              "      <td>0</td>\n",
              "      <td>0.999929</td>\n",
              "      <td>0.0</td>\n",
              "      <td>0.994576</td>\n",
              "      <td>1.0</td>\n",
              "      <td>1.011643</td>\n",
              "      <td>28.0</td>\n",
              "      <td>1.037768</td>\n",
              "      <td>126.0</td>\n",
              "      <td>1.095044</td>\n",
              "      <td>535.0</td>\n",
              "    </tr>\n",
              "    <tr>\n",
              "      <th>2023-06-23 00:00:00-04:00</th>\n",
              "      <td>33835.660156</td>\n",
              "      <td>33835.660156</td>\n",
              "      <td>33646.488281</td>\n",
              "      <td>33727.429688</td>\n",
              "      <td>379800000</td>\n",
              "      <td>33714.710938</td>\n",
              "      <td>0</td>\n",
              "      <td>0.996760</td>\n",
              "      <td>0.0</td>\n",
              "      <td>0.992108</td>\n",
              "      <td>0.0</td>\n",
              "      <td>1.004443</td>\n",
              "      <td>28.0</td>\n",
              "      <td>1.030783</td>\n",
              "      <td>125.0</td>\n",
              "      <td>1.087734</td>\n",
              "      <td>534.0</td>\n",
              "    </tr>\n",
              "    <tr>\n",
              "      <th>2023-06-26 00:00:00-04:00</th>\n",
              "      <td>33730.789062</td>\n",
              "      <td>33819.488281</td>\n",
              "      <td>33610.320312</td>\n",
              "      <td>33714.710938</td>\n",
              "      <td>265330000</td>\n",
              "      <td>33926.738281</td>\n",
              "      <td>1</td>\n",
              "      <td>0.999811</td>\n",
              "      <td>0.0</td>\n",
              "      <td>0.995155</td>\n",
              "      <td>0.0</td>\n",
              "      <td>1.003567</td>\n",
              "      <td>27.0</td>\n",
              "      <td>1.030108</td>\n",
              "      <td>125.0</td>\n",
              "      <td>1.087085</td>\n",
              "      <td>534.0</td>\n",
              "    </tr>\n",
              "    <tr>\n",
              "      <th>2023-06-27 00:00:00-04:00</th>\n",
              "      <td>33739.031250</td>\n",
              "      <td>33975.648438</td>\n",
              "      <td>33730.390625</td>\n",
              "      <td>33926.738281</td>\n",
              "      <td>293210000</td>\n",
              "      <td>33786.511719</td>\n",
              "      <td>0</td>\n",
              "      <td>1.003135</td>\n",
              "      <td>1.0</td>\n",
              "      <td>1.002166</td>\n",
              "      <td>1.0</td>\n",
              "      <td>1.009344</td>\n",
              "      <td>27.0</td>\n",
              "      <td>1.036209</td>\n",
              "      <td>126.0</td>\n",
              "      <td>1.093671</td>\n",
              "      <td>535.0</td>\n",
              "    </tr>\n",
              "    <tr>\n",
              "      <th>2023-06-28 00:00:00-04:00</th>\n",
              "      <td>33881.378906</td>\n",
              "      <td>33903.761719</td>\n",
              "      <td>33755.921875</td>\n",
              "      <td>33786.511719</td>\n",
              "      <td>125127545</td>\n",
              "      <td>NaN</td>\n",
              "      <td>0</td>\n",
              "      <td>0.997929</td>\n",
              "      <td>1.0</td>\n",
              "      <td>0.998997</td>\n",
              "      <td>1.0</td>\n",
              "      <td>1.004917</td>\n",
              "      <td>26.0</td>\n",
              "      <td>1.031579</td>\n",
              "      <td>125.0</td>\n",
              "      <td>1.088904</td>\n",
              "      <td>535.0</td>\n",
              "    </tr>\n",
              "  </tbody>\n",
              "</table>\n",
              "<p>7931 rows × 17 columns</p>\n",
              "</div>\n",
              "      <button class=\"colab-df-convert\" onclick=\"convertToInteractive('df-45e4e49b-0d3d-4485-9a0a-3d7246a829f8')\"\n",
              "              title=\"Convert this dataframe to an interactive table.\"\n",
              "              style=\"display:none;\">\n",
              "        \n",
              "  <svg xmlns=\"http://www.w3.org/2000/svg\" height=\"24px\"viewBox=\"0 0 24 24\"\n",
              "       width=\"24px\">\n",
              "    <path d=\"M0 0h24v24H0V0z\" fill=\"none\"/>\n",
              "    <path d=\"M18.56 5.44l.94 2.06.94-2.06 2.06-.94-2.06-.94-.94-2.06-.94 2.06-2.06.94zm-11 1L8.5 8.5l.94-2.06 2.06-.94-2.06-.94L8.5 2.5l-.94 2.06-2.06.94zm10 10l.94 2.06.94-2.06 2.06-.94-2.06-.94-.94-2.06-.94 2.06-2.06.94z\"/><path d=\"M17.41 7.96l-1.37-1.37c-.4-.4-.92-.59-1.43-.59-.52 0-1.04.2-1.43.59L10.3 9.45l-7.72 7.72c-.78.78-.78 2.05 0 2.83L4 21.41c.39.39.9.59 1.41.59.51 0 1.02-.2 1.41-.59l7.78-7.78 2.81-2.81c.8-.78.8-2.07 0-2.86zM5.41 20L4 18.59l7.72-7.72 1.47 1.35L5.41 20z\"/>\n",
              "  </svg>\n",
              "      </button>\n",
              "      \n",
              "  <style>\n",
              "    .colab-df-container {\n",
              "      display:flex;\n",
              "      flex-wrap:wrap;\n",
              "      gap: 12px;\n",
              "    }\n",
              "\n",
              "    .colab-df-convert {\n",
              "      background-color: #E8F0FE;\n",
              "      border: none;\n",
              "      border-radius: 50%;\n",
              "      cursor: pointer;\n",
              "      display: none;\n",
              "      fill: #1967D2;\n",
              "      height: 32px;\n",
              "      padding: 0 0 0 0;\n",
              "      width: 32px;\n",
              "    }\n",
              "\n",
              "    .colab-df-convert:hover {\n",
              "      background-color: #E2EBFA;\n",
              "      box-shadow: 0px 1px 2px rgba(60, 64, 67, 0.3), 0px 1px 3px 1px rgba(60, 64, 67, 0.15);\n",
              "      fill: #174EA6;\n",
              "    }\n",
              "\n",
              "    [theme=dark] .colab-df-convert {\n",
              "      background-color: #3B4455;\n",
              "      fill: #D2E3FC;\n",
              "    }\n",
              "\n",
              "    [theme=dark] .colab-df-convert:hover {\n",
              "      background-color: #434B5C;\n",
              "      box-shadow: 0px 1px 3px 1px rgba(0, 0, 0, 0.15);\n",
              "      filter: drop-shadow(0px 1px 2px rgba(0, 0, 0, 0.3));\n",
              "      fill: #FFFFFF;\n",
              "    }\n",
              "  </style>\n",
              "\n",
              "      <script>\n",
              "        const buttonEl =\n",
              "          document.querySelector('#df-45e4e49b-0d3d-4485-9a0a-3d7246a829f8 button.colab-df-convert');\n",
              "        buttonEl.style.display =\n",
              "          google.colab.kernel.accessAllowed ? 'block' : 'none';\n",
              "\n",
              "        async function convertToInteractive(key) {\n",
              "          const element = document.querySelector('#df-45e4e49b-0d3d-4485-9a0a-3d7246a829f8');\n",
              "          const dataTable =\n",
              "            await google.colab.kernel.invokeFunction('convertToInteractive',\n",
              "                                                     [key], {});\n",
              "          if (!dataTable) return;\n",
              "\n",
              "          const docLinkHtml = 'Like what you see? Visit the ' +\n",
              "            '<a target=\"_blank\" href=https://colab.research.google.com/notebooks/data_table.ipynb>data table notebook</a>'\n",
              "            + ' to learn more about interactive tables.';\n",
              "          element.innerHTML = '';\n",
              "          dataTable['output_type'] = 'display_data';\n",
              "          await google.colab.output.renderOutput(dataTable, element);\n",
              "          const docLink = document.createElement('div');\n",
              "          docLink.innerHTML = docLinkHtml;\n",
              "          element.appendChild(docLink);\n",
              "        }\n",
              "      </script>\n",
              "    </div>\n",
              "  </div>\n",
              "  "
            ]
          },
          "metadata": {},
          "execution_count": 71
        }
      ]
    },
    {
      "cell_type": "code",
      "source": [
        "sp500 = sp500.dropna(subset=sp500.columns[sp500.columns != \"Tomorrow\"]) #drop the columns which are NaN as our model needs 4 years of dat for the 1000 day horizon to compute values. However do not drop tommorow's column to make predictions for tommorow."
      ],
      "metadata": {
        "id": "GPliZSHUU0ae"
      },
      "execution_count": 72,
      "outputs": []
    },
    {
      "cell_type": "code",
      "source": [
        "model = RandomForestClassifier(n_estimators =200, min_samples_split =50, random_state=1) #rerun model with more random trees and less min sample split"
      ],
      "metadata": {
        "id": "hWBYRpSUVcey"
      },
      "execution_count": 73,
      "outputs": []
    },
    {
      "cell_type": "code",
      "source": [
        "def predict(train, test, predictors, model): #define a predict function that does all that has been done so far into one function\n",
        "  model.fit(train[predictors], train[\"Target\"])\n",
        "  preds = model.predict_proba(test[predictors])[:,1] #rewrite predict function slightly using the predict_proba function that now returns the probability of the target being 0 or 1 rather than returning just a 0 or 1. But using the [:,1] we return only the porbablility that the stock will go up.\n",
        "  preds[preds >= 0.6] =1 #setting the threshold for predicting it will go up from being 50% confidence to at least 60% confident it will go up to return a 1\n",
        "  preds[preds < 0.6] = 0 #similarly if the model is not at least 60% the price will go up return 0 so to be safe.\n",
        "  preds = pd.Series(preds, index=test.index, name = \"Predictions\")\n",
        "  combined = pd.concat([test[\"Target\"], preds], axis =1)\n",
        "  return combined\n"
      ],
      "metadata": {
        "id": "aU6nzduMV85Q"
      },
      "execution_count": 74,
      "outputs": []
    },
    {
      "cell_type": "code",
      "source": [
        "predictions =backtest(sp500,model,new_predictors) #now we use only the new_predictors (the rolling averages and the trends) into consideration when training our model as the open/close/high/low are absolute values and are not useful in creating a pattern to follow (they are just numbers to the model, they do not tell us anything to predict off of)"
      ],
      "metadata": {
        "id": "SNLeAws-XiAJ"
      },
      "execution_count": 75,
      "outputs": []
    },
    {
      "cell_type": "code",
      "source": [
        "predictions[\"Predictions\"].value_counts() #now we see it tell us that stock will go up much less than before, as it needs to be more confident."
      ],
      "metadata": {
        "colab": {
          "base_uri": "https://localhost:8080/"
        },
        "id": "5qP_WYuPXrU5",
        "outputId": "274325ab-67b9-4f04-e87a-e82d12075533"
      },
      "execution_count": 76,
      "outputs": [
        {
          "output_type": "execute_result",
          "data": {
            "text/plain": [
              "0.0    3903\n",
              "1.0     527\n",
              "Name: Predictions, dtype: int64"
            ]
          },
          "metadata": {},
          "execution_count": 76
        }
      ]
    },
    {
      "cell_type": "code",
      "source": [
        "precision_score(predictions[\"Target\"], predictions[\"Predictions\"]) #precision score of our model"
      ],
      "metadata": {
        "colab": {
          "base_uri": "https://localhost:8080/"
        },
        "id": "p5-jGyYoYUQ7",
        "outputId": "096125d5-4b1e-4fbe-9bf1-a7370d15c022"
      },
      "execution_count": 77,
      "outputs": [
        {
          "output_type": "execute_result",
          "data": {
            "text/plain": [
              "0.5161290322580645"
            ]
          },
          "metadata": {},
          "execution_count": 77
        }
      ]
    },
    {
      "cell_type": "code",
      "source": [
        "predictions[\"Target\"].value_counts() / predictions.shape[0] #actual percentage it went up or down, as seen our model is slightly better"
      ],
      "metadata": {
        "colab": {
          "base_uri": "https://localhost:8080/"
        },
        "id": "JaHxa5TvYpXK",
        "outputId": "bd02677b-66dd-4f19-f7a9-fbc4ccb7613a"
      },
      "execution_count": 78,
      "outputs": [
        {
          "output_type": "execute_result",
          "data": {
            "text/plain": [
              "1    0.537923\n",
              "0    0.462077\n",
              "Name: Target, dtype: float64"
            ]
          },
          "metadata": {},
          "execution_count": 78
        }
      ]
    },
    {
      "cell_type": "code",
      "source": [
        "predictions[\"Target\"].value_counts() #actual # of times it went up or down"
      ],
      "metadata": {
        "colab": {
          "base_uri": "https://localhost:8080/"
        },
        "id": "e07DW73UZAah",
        "outputId": "30d60c6b-b245-4c46-f23b-50dfbc947d16"
      },
      "execution_count": 79,
      "outputs": [
        {
          "output_type": "execute_result",
          "data": {
            "text/plain": [
              "1    2383\n",
              "0    2047\n",
              "Name: Target, dtype: int64"
            ]
          },
          "metadata": {},
          "execution_count": 79
        }
      ]
    },
    {
      "cell_type": "code",
      "source": [
        "predictions"
      ],
      "metadata": {
        "colab": {
          "base_uri": "https://localhost:8080/",
          "height": 224
        },
        "id": "-s9lkpfhZCWG",
        "outputId": "7f7ddd02-d2bf-4e56-ce84-23afe1e6f6cf"
      },
      "execution_count": 80,
      "outputs": [
        {
          "output_type": "execute_result",
          "data": {
            "text/plain": [
              "                           Target  Predictions\n",
              "Date                                          \n",
              "2005-11-17 00:00:00-05:00       1          0.0\n",
              "2005-11-18 00:00:00-05:00       1          0.0\n",
              "2005-11-21 00:00:00-05:00       1          0.0\n",
              "2005-11-22 00:00:00-05:00       1          0.0\n",
              "2005-11-23 00:00:00-05:00       1          0.0\n",
              "...                           ...          ...\n",
              "2023-06-21 00:00:00-04:00       0          0.0\n",
              "2023-06-22 00:00:00-04:00       0          0.0\n",
              "2023-06-23 00:00:00-04:00       0          1.0\n",
              "2023-06-26 00:00:00-04:00       1          0.0\n",
              "2023-06-27 00:00:00-04:00       0          0.0\n",
              "\n",
              "[4430 rows x 2 columns]"
            ],
            "text/html": [
              "\n",
              "  <div id=\"df-263046a2-8fed-427a-9a9d-132b7e2ec6a4\">\n",
              "    <div class=\"colab-df-container\">\n",
              "      <div>\n",
              "<style scoped>\n",
              "    .dataframe tbody tr th:only-of-type {\n",
              "        vertical-align: middle;\n",
              "    }\n",
              "\n",
              "    .dataframe tbody tr th {\n",
              "        vertical-align: top;\n",
              "    }\n",
              "\n",
              "    .dataframe thead th {\n",
              "        text-align: right;\n",
              "    }\n",
              "</style>\n",
              "<table border=\"1\" class=\"dataframe\">\n",
              "  <thead>\n",
              "    <tr style=\"text-align: right;\">\n",
              "      <th></th>\n",
              "      <th>Target</th>\n",
              "      <th>Predictions</th>\n",
              "    </tr>\n",
              "    <tr>\n",
              "      <th>Date</th>\n",
              "      <th></th>\n",
              "      <th></th>\n",
              "    </tr>\n",
              "  </thead>\n",
              "  <tbody>\n",
              "    <tr>\n",
              "      <th>2005-11-17 00:00:00-05:00</th>\n",
              "      <td>1</td>\n",
              "      <td>0.0</td>\n",
              "    </tr>\n",
              "    <tr>\n",
              "      <th>2005-11-18 00:00:00-05:00</th>\n",
              "      <td>1</td>\n",
              "      <td>0.0</td>\n",
              "    </tr>\n",
              "    <tr>\n",
              "      <th>2005-11-21 00:00:00-05:00</th>\n",
              "      <td>1</td>\n",
              "      <td>0.0</td>\n",
              "    </tr>\n",
              "    <tr>\n",
              "      <th>2005-11-22 00:00:00-05:00</th>\n",
              "      <td>1</td>\n",
              "      <td>0.0</td>\n",
              "    </tr>\n",
              "    <tr>\n",
              "      <th>2005-11-23 00:00:00-05:00</th>\n",
              "      <td>1</td>\n",
              "      <td>0.0</td>\n",
              "    </tr>\n",
              "    <tr>\n",
              "      <th>...</th>\n",
              "      <td>...</td>\n",
              "      <td>...</td>\n",
              "    </tr>\n",
              "    <tr>\n",
              "      <th>2023-06-21 00:00:00-04:00</th>\n",
              "      <td>0</td>\n",
              "      <td>0.0</td>\n",
              "    </tr>\n",
              "    <tr>\n",
              "      <th>2023-06-22 00:00:00-04:00</th>\n",
              "      <td>0</td>\n",
              "      <td>0.0</td>\n",
              "    </tr>\n",
              "    <tr>\n",
              "      <th>2023-06-23 00:00:00-04:00</th>\n",
              "      <td>0</td>\n",
              "      <td>1.0</td>\n",
              "    </tr>\n",
              "    <tr>\n",
              "      <th>2023-06-26 00:00:00-04:00</th>\n",
              "      <td>1</td>\n",
              "      <td>0.0</td>\n",
              "    </tr>\n",
              "    <tr>\n",
              "      <th>2023-06-27 00:00:00-04:00</th>\n",
              "      <td>0</td>\n",
              "      <td>0.0</td>\n",
              "    </tr>\n",
              "  </tbody>\n",
              "</table>\n",
              "<p>4430 rows × 2 columns</p>\n",
              "</div>\n",
              "      <button class=\"colab-df-convert\" onclick=\"convertToInteractive('df-263046a2-8fed-427a-9a9d-132b7e2ec6a4')\"\n",
              "              title=\"Convert this dataframe to an interactive table.\"\n",
              "              style=\"display:none;\">\n",
              "        \n",
              "  <svg xmlns=\"http://www.w3.org/2000/svg\" height=\"24px\"viewBox=\"0 0 24 24\"\n",
              "       width=\"24px\">\n",
              "    <path d=\"M0 0h24v24H0V0z\" fill=\"none\"/>\n",
              "    <path d=\"M18.56 5.44l.94 2.06.94-2.06 2.06-.94-2.06-.94-.94-2.06-.94 2.06-2.06.94zm-11 1L8.5 8.5l.94-2.06 2.06-.94-2.06-.94L8.5 2.5l-.94 2.06-2.06.94zm10 10l.94 2.06.94-2.06 2.06-.94-2.06-.94-.94-2.06-.94 2.06-2.06.94z\"/><path d=\"M17.41 7.96l-1.37-1.37c-.4-.4-.92-.59-1.43-.59-.52 0-1.04.2-1.43.59L10.3 9.45l-7.72 7.72c-.78.78-.78 2.05 0 2.83L4 21.41c.39.39.9.59 1.41.59.51 0 1.02-.2 1.41-.59l7.78-7.78 2.81-2.81c.8-.78.8-2.07 0-2.86zM5.41 20L4 18.59l7.72-7.72 1.47 1.35L5.41 20z\"/>\n",
              "  </svg>\n",
              "      </button>\n",
              "      \n",
              "  <style>\n",
              "    .colab-df-container {\n",
              "      display:flex;\n",
              "      flex-wrap:wrap;\n",
              "      gap: 12px;\n",
              "    }\n",
              "\n",
              "    .colab-df-convert {\n",
              "      background-color: #E8F0FE;\n",
              "      border: none;\n",
              "      border-radius: 50%;\n",
              "      cursor: pointer;\n",
              "      display: none;\n",
              "      fill: #1967D2;\n",
              "      height: 32px;\n",
              "      padding: 0 0 0 0;\n",
              "      width: 32px;\n",
              "    }\n",
              "\n",
              "    .colab-df-convert:hover {\n",
              "      background-color: #E2EBFA;\n",
              "      box-shadow: 0px 1px 2px rgba(60, 64, 67, 0.3), 0px 1px 3px 1px rgba(60, 64, 67, 0.15);\n",
              "      fill: #174EA6;\n",
              "    }\n",
              "\n",
              "    [theme=dark] .colab-df-convert {\n",
              "      background-color: #3B4455;\n",
              "      fill: #D2E3FC;\n",
              "    }\n",
              "\n",
              "    [theme=dark] .colab-df-convert:hover {\n",
              "      background-color: #434B5C;\n",
              "      box-shadow: 0px 1px 3px 1px rgba(0, 0, 0, 0.15);\n",
              "      filter: drop-shadow(0px 1px 2px rgba(0, 0, 0, 0.3));\n",
              "      fill: #FFFFFF;\n",
              "    }\n",
              "  </style>\n",
              "\n",
              "      <script>\n",
              "        const buttonEl =\n",
              "          document.querySelector('#df-263046a2-8fed-427a-9a9d-132b7e2ec6a4 button.colab-df-convert');\n",
              "        buttonEl.style.display =\n",
              "          google.colab.kernel.accessAllowed ? 'block' : 'none';\n",
              "\n",
              "        async function convertToInteractive(key) {\n",
              "          const element = document.querySelector('#df-263046a2-8fed-427a-9a9d-132b7e2ec6a4');\n",
              "          const dataTable =\n",
              "            await google.colab.kernel.invokeFunction('convertToInteractive',\n",
              "                                                     [key], {});\n",
              "          if (!dataTable) return;\n",
              "\n",
              "          const docLinkHtml = 'Like what you see? Visit the ' +\n",
              "            '<a target=\"_blank\" href=https://colab.research.google.com/notebooks/data_table.ipynb>data table notebook</a>'\n",
              "            + ' to learn more about interactive tables.';\n",
              "          element.innerHTML = '';\n",
              "          dataTable['output_type'] = 'display_data';\n",
              "          await google.colab.output.renderOutput(dataTable, element);\n",
              "          const docLink = document.createElement('div');\n",
              "          docLink.innerHTML = docLinkHtml;\n",
              "          element.appendChild(docLink);\n",
              "        }\n",
              "      </script>\n",
              "    </div>\n",
              "  </div>\n",
              "  "
            ]
          },
          "metadata": {},
          "execution_count": 80
        }
      ]
    },
    {
      "cell_type": "code",
      "source": [],
      "metadata": {
        "id": "LZBJpKyS--Sw"
      },
      "execution_count": 80,
      "outputs": []
    }
  ]
}